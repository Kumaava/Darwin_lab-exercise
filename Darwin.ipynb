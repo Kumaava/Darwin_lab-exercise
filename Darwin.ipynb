{
 "cells": [
  {
   "cell_type": "code",
   "execution_count": null,
   "metadata": {
    "collapsed": true
   },
   "outputs": [],
   "source": [
    "#print json.dumps(data, indent=4, sort_keys=True)"
   ]
  },
  {
   "cell_type": "markdown",
   "metadata": {},
   "source": [
    "# Task 1 - Jason File \n",
    "\n",
    "## Question1=> Read file \"data.json\", and write a recursive function to convert every value of key \"quantity\" to 23gm, 50gm and 260gm. Presently data is given for 100gm."
   ]
  },
  {
   "cell_type": "code",
   "execution_count": null,
   "metadata": {
    "collapsed": true
   },
   "outputs": [],
   "source": [
    "import pandas as pd\n",
    "import json\n",
    "import requests"
   ]
  },
  {
   "cell_type": "code",
   "execution_count": null,
   "metadata": {
    "collapsed": true
   },
   "outputs": [],
   "source": [
    "d = pd.read_json('data.json',typ='series')\n",
    "data = d[\"data\"]"
   ]
  },
  {
   "cell_type": "code",
   "execution_count": null,
   "metadata": {
    "collapsed": true
   },
   "outputs": [],
   "source": [
    "#keys1=data[\"100gm\"].keys()\n",
    "#print keys1# datatype: Dict\n"
   ]
  },
  {
   "cell_type": "code",
   "execution_count": null,
   "metadata": {
    "collapsed": true
   },
   "outputs": [],
   "source": [
    "def conversion(t):\n",
    "    t = float(t)\n",
    "    to_23 = t*(0.23)\n",
    "    to_50 = t*(0.5)\n",
    "    to_260 = t*(2.60)\n",
    "    return to_23,to_50,to_260\n",
    "\n",
    "def generate(x):\n",
    "    to_23,to_50,to_260 = conversion(x)\n",
    "    return to_23,to_50,to_260,\"**********\",x\n",
    "    \n",
    "def quantity_conversion(data):\n",
    "    keys1=data[\"100gm\"].keys()\n",
    "    print keys1# datatype: Dict\n",
    "    for k in keys1:\n",
    "        print k\n",
    "        dat=data[\"100gm\"][k]   #datatype : List\n",
    "        for i in range(len(dat)):\n",
    "            dat1=dat[i]\n",
    "            #print dat1\n",
    "            for k2 in dat1.keys():\n",
    "                dat2=dat1[k2]\n",
    "                #print dat2\n",
    "                if k2=='sub_cat':\n",
    "                        #code to change values in subcat\n",
    "                    for k3 in range(len(dat2)):\n",
    "                        y = dat2[k3].values()\n",
    "                        for i in y:\n",
    "                            #true_check = isinstance(i, list) #for checking if list\n",
    "                            #print i#,type(i)\n",
    "                            if isinstance(i, list) == True:\n",
    "                                for l in range(len(i)):\n",
    "                                    list_0 =  i[l].values()    #dataType = list\n",
    "                                    for m in range(len(list_0)):\n",
    "                                        #convert every value to float for furthur conversion\n",
    "                                        #print list_0[m][\"quantity\"]#, \"___________\",list_0[m] \n",
    "                                        x = list_0[m][\"quantity\"]\n",
    "                                        u = generate(x)\n",
    "                                        print u\n",
    "                            else : \n",
    "                                x = i[\"quantity\"]\n",
    "                                u = generate(x)\n",
    "                                print u\n",
    "                                #print type(i)\n",
    "\n",
    "\n",
    "                else:\n",
    "                    # code to change 'quantity' directly\n",
    "                    #print \"--------------------\"\n",
    "                    #print dat2['quantity']#,type(dat2['quantity'])\n",
    "                    x = dat2[\"quantity\"]\n",
    "                    u = generate(x)\n",
    "                    print u"
   ]
  },
  {
   "cell_type": "code",
   "execution_count": null,
   "metadata": {
    "collapsed": true
   },
   "outputs": [],
   "source": []
  },
  {
   "cell_type": "code",
   "execution_count": null,
   "metadata": {},
   "outputs": [],
   "source": [
    "y = quantity_conversion(data)"
   ]
  },
  {
   "cell_type": "code",
   "execution_count": null,
   "metadata": {
    "collapsed": true
   },
   "outputs": [],
   "source": []
  },
  {
   "cell_type": "markdown",
   "metadata": {},
   "source": [
    "# Task 2 \n",
    "\n",
    "## Question2=> Parse \"http://www.tennisabstract.com/cgi-bin/player.cgi?p=<playername>\" website to get any player's ace percentage, serve point winning percentage and reverse point winning percentage (from last 10 matches) using python requests or urllib.\n"
   ]
  },
  {
   "cell_type": "code",
   "execution_count": null,
   "metadata": {},
   "outputs": [],
   "source": [
    "currRank = {\"Benjamin Bonzi\": \"219\", \"Sam Barry\": \"382\", \"Dorian Descloix\": \"1213\", \"Alejandro Mendoza\": \"1106\", \"Victor Poncelet\": \"1677\", \"Shao Fan Liu\": \"1513\", \"Guillermo Nunez\": \"1513\", \"Clement Larriere\": \"1221\", \"Alberto Berbegal Moreno\": \"1880\", \"Scott Clayton\": \"890\", \"Pavel Mirobyan\": \"1786\", \"Jake Delaney\": \"769\", \"Florian Mayer\": \"114\", \"Quinton Vega\": \"1132\", \"Marcus Fugate\": \"1366\", \"Aljaz Bedene\": \"58\", \"Sebastien Boltz\": \"657\", \"Ben Fatael\": \"535\", \"Luciano Betella\": \"1561\", \"Hady Habib\": \"1285\", \"Majed Kilani\": \"1317\", \"Logan Smith\": \"1678\", \"Kevin Griekspoor\": \"668\", \"Florian Lakat\": \"1214\", \"Alen Rogic Hadzalic\": \"1678\", \"Julien Benneteau\": \"81\", \"Patrick Daciek\": \"1136\", \"Isa Mammetgulyyev\": \"1274\", \"Sang Yuop Kim\": \"1880\", \"Dragos Dima\": \"392\", \"Matthias Haim\": \"1678\", \"Connor Smith\": \"585\", \"Andrea Arnaboldi\": \"260\", \"Juan Sebastian Gomez\": \"579\", \"Nikola Cacic\": \"484\", \"Mikael Riondy\": \"1425\", \"Andriej Kapas\": \"467\", \"Marcus Walters\": \"1880\", \"Mubarak Al Harrasi\": \"1269\", \"Hunter Reese\": \"1264\", \"Brian Cernoch\": \"1786\", \"Kento Takeuchi\": \"454\", \"Renzo Olivo\": \"89\", \"Dennis Nevolo\": \"583\", \"Ji Hoon Son\": \"937\", \"Dante Gennaro\": \"1074\", \"Matyas Fuele\": \"1678\", \"Thanasi Kokkinakis\": \"486\", \"Rihards Emulins\": \"1678\", \"Mike Urbanija\": \"917\", \"Shaheed Alam\": \"1959\", \"Henrik Wiersholm\": \"1597\", \"Sergey Fomin\": \"1020\", \"Francesco Garzelli\": \"1228\", \"David Juras\": \"1593\", \"Roberto Carballes Baena\": \"134\", \"Andrej Glvac\": \"2051\", \"Zach Itzstein\": \"1400\", \"Lamine Ouahab\": \"404\", \"Eduardo Ribeiro\": \"1597\", \"Julian Ocleppo\": \"640\", \"Marco Bortolotti\": \"461\", \"Tadas Babelis\": \"1638\", \"Matteo De Vincentis\": \"1400\", \"Jerzy Janowicz\": \"141\", \"Ram Kapach\": \"1487\", \"Edris Fetisleam\": \"1400\", \"Naoki Nakagawa\": \"566\", \"Alessandro Ceppellini\": \"1438\", \"Romain Barbosa\": \"543\", \"Gibril Diarra\": \"633\", \"Darko Bojanovic\": \"1675\", \"Alexander Zhurbin\": \"595\", \"Marc Giner\": \"335\", \"Philipp Schroll\": \"1188\", \"Antonio Massara\": \"664\", \"Yen Hsun Lu\": \"75\", \"Zhuoyang Qiu\": \"1381\", \"Roman Hassanov\": \"892\", \"Alejandro Falla\": \"307\", \"San Hui Sin\": \"1425\", \"Eduard Guell Bartrina\": \"1534\", \"Gianluca Beghi\": \"1880\", \"Romain Sichez\": \"1289\", \"Skander Mansouri\": \"1044\", \"Garvit Batra\": \"1678\", \"Kento Tagashira\": \"1959\", \"Khumoun Sultanov\": \"1012\", \"Daniel Dutra Da Silva\": \"473\", \"Austin Smith\": \"784\", \"Jacob Kahoun\": \"2011\", \"Robert Willekes Macdonald\": \"1228\", \"Antoine Walch\": \"1477\", \"Diego Jose Manrique Velazquez\": \"1880\", \"Jakob Johansson Holm\": \"1189\", \"Louis Wessels\": \"516\", \"Lingxi Zhao\": \"1648\", \"Sergey Dorozhkin\": \"1880\", \"Alejandro Gomez Gb42\": \"402\", \"Christopher Rosensteel\": \"1678\", \"Tim Smyczek\": \"195\", \"Warren Kuhn\": \"1786\", \"Alexander Vasilenko\": \"505\", \"Christian Lindell\": \"385\", \"Juan Carlos Saez\": \"1152\", \"Nam Hoang Ly\": \"475\", \"Tao Mu\": \"1786\", \"Jurgen Melzer\": \"130\", \"Eduardo Dischinger\": \"927\", \"Marcel Felder\": \"753\", \"Mert Naci Turker\": \"1421\", \"Charly Zick\": \"1497\", \"Thomas Statzberger\": \"654\", \"Frederik Nielsen\": \"636\", \"Yasitha De Silva\": \"1678\", \"Cem Erturk\": \"1786\", \"Patrick Mayer\": \"2074\", \"Juan Lizariturry\": \"809\", \"Isaac Frost\": \"1534\", \"Piotr Lomacki\": \"1377\", \"Issei Okamura\": \"693\", \"Vullnet Tashi\": \"1106\", \"Facundo Mena\": \"345\", \"Greg Jones\": \"660\", \"Peter Kobelt\": \"509\", \"Philip Henning\": \"1678\", \"Giuliano Benedetti\": \"1786\", \"Bart Stevens\": \"1470\", \"Riccardo Roberto\": \"1381\", \"Francisco Cerundolo\": \"1224\", \"Courtney John Lock\": \"2011\", \"Alexis Gautier\": \"1509\", \"Asdrubal Gobernate\": \"1880\", \"Fredrik Ask\": \"1561\", \"Joshua Peck\": \"1534\", \"Gianluca Acquaroli\": \"2092\", \"Filip Brtnicky\": \"1267\", \"Yaraslau Shyla\": \"366\", \"Amit Gabreal\": \"1177\", \"Lukas Ruepke\": \"803\", \"Morgan Johansson\": \"1678\", \"Jacopo Stefanini\": \"618\", \"Federico Gaio\": \"162\", \"Gianni Ross\": \"1086\", \"Dusty H Boyer\": \"1096\", \"Bertus Kruger\": \"1513\", \"Vincent Jaensch Mueller\": \"1130\", \"Juraj Masar\": \"1009\", \"Soichiro Moritani\": \"767\", \"Guanarteme Nuez Delgado\": \"1082\", \"Kevin Kylar\": \"2051\", \"Lorenzo Sonego\": \"373\", \"Lennert Van Der Linden\": \"569\", \"Yunseong Chung\": \"617\", \"Hannes Wagner\": \"1264\", \"Kevin Krawietz\": \"315\", \"Elliot Benchetrit\": \"765\", \"Xi Qi\": \"1342\", \"Gregoire Burquier\": \"1786\", \"Cristian Villagran\": \"851\", \"Sean Hodkin\": \"1959\", \"Dominic Cotrone\": \"1381\", \"Ilija Vucic\": \"1165\", \"Grega Boh\": \"1959\", \"Florian Broska\": \"1638\", \"Yuya Ito\": \"1880\", \"Thomas Brechemier\": \"518\", \"Nik Razborsek\": \"652\", \"John Isner\": \"21\", \"Marius Copil\": \"85\", \"Flemming Peters\": \"1477\", \"Nils Brinkman\": \"1344\", \"Yan Sabanin\": \"789\", \"Javier Marti\": \"472\", \"David Norfeldt\": \"1678\", \"Daniel Lustig\": \"1786\", \"Lorenzo Bocchi\": \"1959\", \"Francis Casey Alcantara\": \"804\", \"Marcos Baghdatis\": \"65\", \"Pasquale De Giorgio\": \"1678\", \"Alex Solanki\": \"2011\", \"Pascal Brunner\": \"828\", \"Dominik Boehler\": \"800\", \"Kirill Kivattsev\": \"1100\", \"Anthony Susanto\": \"1458\", \"Mitchell Krueger\": \"189\", \"Nicolas Almagro\": \"68\", \"Magloire Yakpa\": \"1678\", \"Wil Spencer\": \"499\", \"Alexander Merino\": \"1246\", \"Michail Pervolarakis\": \"1289\", \"Gonzalo Escobar\": \"449\", \"Mwendwa Mbithi\": \"1959\", \"Vignesh Peranamallur\": \"1305\", \"Marc Polmans\": \"202\", \"Marshall Tutu\": \"1530\", \"Franjo Raspudic\": \"1328\", \"Roberto Ortega Olmedo\": \"360\", \"Yibing Wu\": \"667\", \"Casper Bonapart\": \"1786\", \"Matija Pecotic\": \"483\", \"Dmytro Badanov\": \"1142\", \"Philip Bachmaier\": \"1561\", \"Louis Chaix\": \"922\", \"Botic Van De Zandschulp\": \"330\", \"Benjamin Pietri\": \"1183\", \"Ryusei Makiguchi\": \"672\", \"Karim Hossam\": \"1038\", \"Ramkumar Ramanathan\": \"184\", \"Maximilian Marterer\": \"120\", \"Robin Kern\": \"534\", \"Yuichi Sugita\": \"44\", \"Jonas Luetjen\": \"549\", \"Albert Roglan\": \"1438\", \"Levente Godry\": \"1671\", \"Aleksandr Nedovyesov\": \"217\", \"Ernests Gulbis\": \"589\", \"David Nguyen\": \"1224\", \"Stefano Napolitano\": \"158\", \"Riley Smith\": \"1282\", \"Lucas Pouille\": \"16\", \"Hiroki Moriya\": \"187\", \"Janko Tipsarevic\": \"63\", \"Sam Riffice\": \"801\", \"Oleksander Byelinskyy\": \"757\", \"Petr Michnev\": \"240\", \"Vadim Alekseenko\": \"850\", \"Phongsapak Kerdlaphee\": \"1786\", \"Reda El Amrani\": \"540\", \"Jonathan Kanar\": \"666\", \"Dane Webb\": \"1238\", \"Alexander Perfilov\": \"1631\", \"Santiago Villarruel\": \"1228\", \"Gabor Borsos\": \"771\", \"Vishnu Vardhan\": \"429\", \"Jose Pereira\": \"794\", \"Arvid Nordquist\": \"1880\", \"Santiago Giraldo\": \"101\", \"Pawel Cias\": \"738\", \"Julien Dubail\": \"632\", \"Dayne Kelly\": \"302\", \"Simon Navarro\": \"1228\", \"Konstantinos Ilia\": \"1678\", \"Andres Molteni\": \"695\", \"Dusan Lajovic\": \"79\", \"Cheng Peng Hsieh\": \"1786\", \"Mousa Shanan Zayed\": \"2074\", \"Sebastian Korda\": \"1395\", \"Mate Valkusz\": \"991\", \"Martin Blasko\": \"1273\", \"Jonas Merckx\": \"545\", \"Donald Young\": \"43\", \"Thomas Yaka Kofi Setodji\": \"992\", \"Dominic Weidinger\": \"924\", \"Yuki Bhambri\": \"222\", \"Felipe Mantilla\": \"626\", \"Tomislav Jotovski\": \"770\", \"Aleksandre Metreveli\": \"606\", \"Karl Kiur Saar\": \"1786\", \"Seong Chan Hong\": \"481\", \"Chuhan Wang\": \"561\", \"Alexandru Gozun\": \"1561\", \"Borna Coric\": \"45\", \"John Patrick Smith\": \"212\", \"Alejandro Davidovich Fokina\": \"638\", \"Camilo Andres Erazo\": \"2011\", \"Farzin Danny Amiri\": \"1164\", \"Evan Song\": \"553\", \"Winston Lin\": \"724\", \"Matvey Khomentovskiy\": \"1102\", \"Adam Walton\": \"1513\", \"Vasko Mladenov\": \"940\", \"Paul Oosterbaan\": \"1076\", \"Gael Monfils\": \"14\", \"Alexander Knight\": \"1497\", \"Dejan Katic\": \"952\", \"Krisjanis Stabins\": \"936\", \"Nicholas S Hu\": \"707\", \"Shahin Khaledan\": \"2011\", \"Agustin Velotti\": \"249\", \"Michal Franek\": \"1400\", \"Blaz Kavcic\": \"110\", \"Dylan Seong Kwan Kim\": \"1328\", \"John Millman\": \"137\", \"Nathaniel Lammons\": \"980\", \"Daniel Glancy\": \"1561\", \"Bartlomiej Maroszek\": \"1786\", \"Oriol Roca Batalla\": \"324\", \"Jelle Sels\": \"645\", \"Calvin Hemery\": \"207\", \"Alp Sentay\": \"1472\", \"Alberto Romero De Avila Senise\": \"737\", \"Bernard Tomic\": \"59\", \"Sergio Martos Gornes\": \"836\", \"Christoph Negritu\": \"691\", \"Robin Stanek\": \"565\", \"Peter Polansky\": \"127\", \"Ti Chen\": \"262\", \"Ivan Krivic\": \"1638\", \"Ljubomir Celebic\": \"451\", \"Jaimee Floyd Angele\": \"1880\", \"Joy Vigani\": \"961\", \"Matthew Barton\": \"317\", \"Julius Tverijonas\": \"1497\", \"Marcos Giron\": \"304\", \"Chengze Lu\": \"2099\", \"Demian Raab\": \"1412\", \"Bogdan Borza\": \"758\", \"Jose Fernando Carvajal Torres\": \"1305\", \"Dmitry Surchenko\": \"1219\", \"Mikalai Haliak\": \"1145\", \"Aleksandr Malyshev\": \"1959\", \"Nitin Kumar Sinha\": \"1786\", \"Jonas Eriksson Ziverts\": \"1597\", \"Roy Sarut De Valk\": \"1354\", \"Soren Hess Olesen\": \"1041\", \"Andrey Kuznetsov\": \"76\", \"Peter Goldsteiner\": \"755\", \"Rudolfs Mednis\": \"1597\", \"Nathan Seateun\": \"1660\", \"Ching Lam\": \"1534\", \"Alex Hunt\": \"1786\", \"Amir Weintraub\": \"337\", \"Alexander Ovcharov\": \"1266\", \"Gianluigi Quinzi\": \"243\", \"Yshai Oliel\": \"839\", \"Jan Choinski\": \"511\", \"Constantin Schmitz\": \"1009\", \"Pierre Hugues Herbert\": \"70\", \"Tatsuma Ito\": \"181\", \"Andreas Seppi\": \"87\", \"Taha Kapadia\": \"1959\", \"Nicolaas Scholtz\": \"403\", \"Denys Mylokostov\": \"469\", \"Rrezart Cungu\": \"886\", \"Zeljko Milovic\": \"1318\", \"Vladyslav Manafov\": \"375\", \"Jordan Hasson\": \"1128\", \"Luis Patino\": \"924\", \"Fabio Mercuri\": \"1678\", \"Oscar Otte\": \"170\", \"Alan Gadjiev\": \"934\", \"Yusuf Ebrahim Ahmed Abdulla Qaed\": \"1959\", \"Max Colorado \": \"1786\", \"Richard Gasquet\": \"27\", \"David Gorsic\": \"1880\", \"Jorge Montero\": \"876\", \"Gabriel Pascotto Tumasonis\": \"1786\", \"Gavin Van Peperzeel\": \"598\", \"Chun Hsin Tseng\": \"1381\", \"Ze Zhang\": \"252\", \"N Sriram Balaji\": \"291\", \"Denis Semenikhin\": \"1678\", \"Hubert Hurkacz\": \"308\", \"Maximilian Neuchrist\": \"439\", \"Thomaz Bellucci\": \"55\", \"Pak Long Yeung\": \"1534\", \"Joao Pedro Sorgi\": \"299\", \"Hugo Dellien\": \"327\", \"Facundo Jofre\": \"1631\", \"Pablo Carreno Busta\": \"17\", \"Simohamed Hirs\": \"2011\", \"Arthur Rinderknech\": \"1158\", \"Scott Griekspoor\": \"763\", \"Kris Krawcewicz\": \"1561\", \"Gilles Muller\": \"26\", \"Herkko Pollanen\": \"1388\", \"Alexander Babanine\": \"1959\", \"Bar Tzuf Botzer\": \"774\", \"Hugo Voljacques\": \"790\", \"Yu  Hsiang Chiu\": \"997\", \"Riaan Du Toit\": \"1296\", \"Jose Daniel Bendeck\": \"1425\", \"Nicolas Alvarez Varona\": \"2011\", \"Andrej Martin\": \"148\", \"Mohamed Abdel Aziz\": \"1421\", \"Brayden Schnur\": \"233\", \"Tyler Mercier\": \"1252\", \"Ruben Bemelmans\": \"124\", \"Cengiz Aksu\": \"2051\", \"Theo Fournerie\": \"1037\", \"Kunal Anand\": \"1204\", \"Peter Gojowczyk\": \"140\", \"Enrique Lopez Perez\": \"250\", \"Sergi Perez Contri\": \"1458\", \"Roberto Quiroz\": \"239\", \"Roberto Livi\": \"1497\", \"Toby Martin\": \"1195\", \"Eero Vasa\": \"1189\", \"Roberto Cid\": \"513\", \"Adrian Menendez Maceiras\": \"145\", \"Vijayant Malik\": \"1597\", \"Mateo Nicolas Martinez\": \"717\", \"Casper Ruud\": \"111\", \"Bartosz Wojnar\": \"2099\", \"Khalid Allouch\": \"1638\", \"Mateo Andres Ruiz Naranjo\": \"1786\", \"Maksim Malyshev\": \"1650\", \"Alexandre Folie\": \"1260\", \"Giovanni Lapentti\": \"659\", \"Roy Smith\": \"1293\", \"Johannes Myburgh\": \"1786\", \"Calum Puttergill\": \"1194\", \"Mico Santiago\": \"964\", \"Alejandro Artunedo\": \"1267\", \"Alastair Gray\": \"1047\", \"Yosuke Watanuki\": \"428\", \"Ji Ha Kim\": \"1786\", \"Rocco Savin\": \"1959\", \"Jumpei Yamasaki\": \"577\", \"Hei Yin Andrew Li\": \"1534\", \"Artem Dubrivnyy\": \"1180\", \"Ivan Nedelko\": \"353\", \"Nick Kyrgios\": \"20\", \"Leandro Serrano Sanz\": \"1597\", \"Boris Arias\": \"1321\", \"Johannes Haerteis\": \"786\", \"Jerome Inzerillo\": \"2011\", \"Jesse Huta Galung\": \"607\", \"Valentin Nourrissat\": \"1656\", \"Savva Polukhin\": \"1366\", \"Jan Zednik\": \"1959\", \"Gustavo De Oliveira Cruz Cruz\": \"1959\", \"Aldin Setkic\": \"201\", \"Simen Sunde Bratholm\": \"1370\", \"Henry Choi\": \"1678\", \"Federico Delbonis\": \"88\", \"Orlando Luz\": \"462\", \"Ryan Haviland\": \"760\", \"Enrico Dalla Valle\": \"1105\", \"Gabriel Donev\": \"1271\", \"Aslan Karatsev\": \"357\", \"Amine Ahouda\": \"684\", \"Kimmer Coppejans\": \"178\", \"Sidharth Rawat\": \"587\", \"Justin Schlageter\": \"1678\", \"Roman Jebavy\": \"912\", \"Mathieu Perchicot\": \"1678\", \"Jack Sock\": \"18\", \"Edan Leshem\": \"288\", \"Ranjeet Virali Murugesan\": \"968\", \"Sekou Bangoura\": \"309\", \"Puriwat Chatpatcharoen\": \"1353\", \"Manuel Guinard\": \"833\", \"Zihao Xia\": \"729\", \"Tadas Tarasevicius\": \"1678\", \"Tim Van Terheijden\": \"1091\", \"Christopher Heyman\": \"447\", \"Rishab Agarwal\": \"719\", \"Matteo Viola\": \"311\", \"Andrey Yakovlev\": \"1959\", \"Kelsey Stevenson\": \"1031\", \"Karim Mohamed Maamoun\": \"287\", \"Aryan Goveas\": \"874\", \"Carlos Gomez Herrera\": \"477\", \"Harri Heliovaara\": \"1786\", \"Vadym Ursu\": \"677\", \"Benjamin Lock\": \"401\", \"Patrick Ofner\": \"1218\", \"Igor Karpovets\": \"1880\", \"Constant De La Bassetiere\": \"1279\", \"Stefanos Tsitsipas\": \"192\", \"Lev Kazakov\": \"1363\", \"Jason Jung\": \"160\", \"Jason Legall\": \"1880\", \"Giorgio Ricca\": \"807\", \"Zizou Bergs\": \"1959\", \"Matthew Christopher Romios\": \"1509\", \"Zhao Tai Li\": \"2011\", \"Benjamin Becker\": \"230\", \"Filip Dolezel\": \"1530\", \"Xin Gao\": \"544\", \"Yuto Sakai\": \"1597\", \"Jozef Kovalik\": \"159\", \"Wei De Lin\": \"1275\", \"Andrey Golubev\": \"453\", \"Christopher Diaz Figueroa\": \"706\", \"Daniel Altmaier\": \"209\", \"Teodor Dacian Craciun\": \"1026\", \"Anil Yuksel\": \"594\", \"Mohit Mayur Jayaprakash\": \"1004\", \"Lukas Lacko\": \"105\", \"Yassine Idmbarek\": \"1238\", \"Hyun Joon Kim\": \"1400\", \"Patrik Nema\": \"687\", \"Tom Farquharson\": \"1024\", \"Ryan Shane\": \"507\", \"Mats Rosenkranz\": \"1224\", \"Tommy Haas\": \"258\", \"Duck Hee Lee\": \"147\", \"Rafael Nadal\": \"2\", \"Max Wennakoski\": \"1083\", \"Shalva Dzhanashia\": \"1175\", \"Igor Saveljic\": \"1678\", \"Riccardo Stiglich\": \"1678\", \"Abdulhamid Mubarak\": \"1880\", \"Duncan Mugabe\": \"1786\", \"Jagdish Tanwar\": \"1786\", \"Dekel Bar\": \"620\", \"Ignacio Monzon\": \"1334\", \"Timothy Dollman\": \"1561\", \"Jay Clarke\": \"368\", \"Miliaan Niesten\": \"557\", \"Louis Tessa\": \"824\", \"Baptiste Crepatte\": \"629\", \"Elie Rousset\": \"1173\", \"Timur Khabibulin\": \"875\", \"Andreas Beck\": \"1016\", \"Andrea Vavassori\": \"581\", \"Taro Daniel\": \"92\", \"Yvo Panak\": \"2011\", \"Teymuraz Gabashvili\": \"176\", \"Andres Artunedo Martinavarr\": \"434\", \"Chanchai Sookton Eng\": \"1959\", \"Eddie Grabill\": \"1678\", \"Dennis Bogaert\": \"1328\", \"Marek Michalicka\": \"761\", \"Luke Saville\": \"328\", \"Kaito Uesugi\": \"749\", \"Billy Harris\": \"952\", \"Dimitar Grabuloski\": \"1012\", \"Maxime Janvier\": \"241\", \"Martin Redlicki\": \"1116\", \"Bruno Mardones\": \"1487\", \"Pietro Licciardi\": \"781\", \"Danny Thomas\": \"1167\", \"Fran Zvonimir Zgombic\": \"861\", \"David Hopkins\": \"1561\", \"Andrew Korinek\": \"1370\", \"Nino Serdarusic\": \"506\", \"Strong Kirchheimer\": \"962\", \"Marcelo Tomas Barrios Vera\": \"468\", \"Thiago Monteiro\": \"100\", \"Benjamin Loccisano\": \"2051\", \"Matwe Middelkoop\": \"1206\", \"Vasek Pospisil\": \"73\", \"Matteo Donati\": \"297\", \"Javier Barranco Cosano\": \"1205\", \"Filippo Baldi\": \"725\", \"Bruno Savi\": \"1678\", \"Mauricio Astorga\": \"1638\", \"Alex De Minaur\": \"244\", \"Yuki Mochiduki\": \"868\", \"Ansu Bhuyan\": \"1880\", \"Joseph Digiulio\": \"1678\", \"Daniel Yoo\": \"900\", \"Jose Fco Vidal Azorin\": \"694\", \"Ivan Gakhov\": \"326\", \"Serge Becerra Jeria\": \"1513\", \"Jeson Patrombon\": \"1458\", \"Santiago Fa Rodriguez Taverna\": \"823\", \"Grigoriy Lomakin\": \"1880\", \"Gijs Brouwer\": \"708\", \"Aoxiong Wang\": \"1657\", \"Jan Mertl\": \"350\", \"Moritz Dettinger\": \"1561\", \"Markus Eriksson\": \"347\", \"Maksim Tikhomirov\": \"1148\", \"Dimitriy Voronin\": \"1103\", \"Vladyslav Orlov\": \"1597\", \"Maciej Smola\": \"797\", \"David Jorda Sanchis\": \"929\", \"Jan Minar\": \"1284\", \"Samuele Ramazzotti\": \"2011\", \"Yuki Matsuo\": \"1561\", \"Edouard Roger Vasselin\": \"435\", \"Genaro Alberto Olivieri\": \"625\", \"Matteo Berrettini\": \"236\", \"Antonie Hoang\": \"422\", \"Samuel Ferguson\": \"1678\", \"Marius Frosa\": \"1959\", \"James Ibrahim\": \"1959\", \"Zsombor Piros\": \"902\", \"Masaki Sasai\": \"1177\", \"Viktor Galovic\": \"491\", \"Oleg Khotkov\": \"867\", \"Jaime Fermosell Delgado\": \"849\", \"Nikolay Kolobaev\": \"2105\", \"Chandril Sood\": \"1470\", \"Michal Mikula\": \"1786\", \"Guilherme Clezar\": \"280\", \"Nicolo Turchetti\": \"870\", \"Menelaos Efstathiou\": \"1530\", \"Vasisht Cheruku\": \"2011\", \"Rui Xuan Wang\": \"1650\", \"Mostafa Mohamed Hatem\": \"1786\", \"Hernan Casanova\": \"474\", \"Matthew Brooklyn\": \"1363\", \"John Lamble\": \"834\", \"Jo Wilfried Tsonga\": \"10\", \"Laurens Verboven\": \"1561\", \"Cheong Eui Kim\": \"380\", \"Juan Martin Del Potro\": \"32\", \"Tomislav Ternar\": \"905\", \"Giovani Samaha\": \"1252\", \"Jan Satral\": \"142\", \"Jordan Correia Passos Do Carmo\": \"857\", \"Raymond Sarmiento\": \"349\", \"Pirmin Haenle\": \"897\", \"Marsel Ilhan\": \"271\", \"Joran Vliegen\": \"631\", \"Rayane Oumaouche\": \"1561\", \"Harry Bourchier\": \"612\", \"Boy Westerhof\": \"521\", \"Su Hao Zhong\": \"993\", \"Adrian Andrzejczuk\": \"983\", \"Paolo Dagnino\": \"1880\", \"Maxime Cressy\": \"1880\", \"Yuuya Kibi\": \"348\", \"Gonzalo Villanueva\": \"551\", \"Aria Harajchi\": \"1113\", \"Sebastian Hawken\": \"1678\", \"Ivan Liutarevich\": \"2051\", \"Tobias Kamke\": \"165\", \"Vasile Antonescu\": \"808\", \"Bruno Luca Faletto Ureta\": \"1959\", \"Blake Ellis\": \"1530\", \"Constant Lestienne\": \"227\", \"Franco Agamenone\": \"425\", \"Omar Giacalone\": \"530\", \"Gary Kushnirovich\": \"1438\", \"Hugo Gaston\": \"1561\", \"Kyle Edmund\": \"50\", \"Piotr Grynkowski\": \"1959\", \"Tung Lin Wu\": \"662\", \"Nicolae Frunza\": \"442\", \"Rafael Matos\": \"733\", \"Adria Mas Mascolo\": \"1200\", \"Geoffrey Blancaneaux\": \"482\", \"Daniel Appelgren\": \"981\", \"Edan Bakshi\": \"2051\", \"Jordi Walder\": \"2011\", \"Emil Ruusuvuori\": \"1534\", \"Ognian Kolev\": \"1678\", \"David Vega Hernandez\": \"658\", \"Chukang Wang\": \"1305\", \"Ondrej Krstev\": \"1201\", \"Takao Suzuki\": \"986\", \"Yong Kyu Lim\": \"582\", \"Benjamin Hannestad\": \"942\", \"Rishabh Sharda\": \"1678\", \"Alexei Popyrin\": \"1054\", \"Nico Matic\": \"1279\", \"Clement Geens\": \"294\", \"Andrew Carter\": \"1109\", \"Suraj R Prabodh\": \"1660\", \"Victor Mugurel Anagnastopol\": \"2051\", \"Alberto Barroso Campos\": \"1297\", \"Mitchell Thomas Mcdaniels\": \"1022\", \"Martin Facundo Carrizo\": \"2051\", \"Vit Kopriva\": \"460\", \"Charalampos Kapogiannis\": \"1959\", \"Gian Marco Moroni\": \"907\", \"Shunsuke Wakita\": \"1146\", \"Stylianos Perdikogiannis\": \"1678\", \"Tim Kopinski\": \"1448\", \"Roger Federer\": \"5\", \"Peter Nagy\": \"492\", \"Lukas Vejvara\": \"1487\", \"Daniel Nguyen\": \"296\", \"Vladimir Ivanov\": \"409\", \"Mate Delic\": \"501\", \"Andre Biro\": \"1252\", \"Neil Pauffley\": \"563\", \"Deiton Baughman\": \"1786\", \"Yurii Dzhavakian\": \"848\", \"Nicolas Xiviller\": \"1334\", \"Rio Noguchi\": \"1477\", \"Bart Van Den Berg\": \"1880\", \"Ju Hae Moon\": \"995\", \"Grigor Dimitrov\": \"11\", \"Marcelo Plaza\": \"1959\", \"Thales Turini\": \"678\", \"Nicola Ghedin\": \"720\", \"Zhao Cai\": \"1959\", \"Joao Monteiro\": \"352\", \"Finn Tearney\": \"444\", \"Rogerio Dutra Silva\": \"69\", \"Domagoj Biljesko\": \"1276\", \"Alexander Ritschard\": \"1014\", \"Andres Gabriel Ciurletti\": \"1342\", \"Ante Pavic\": \"400\", \"George Tsivadze\": \"894\", \"Andrei Levine\": \"1650\", \"Hugo Daubias\": \"1311\", \"Leonardo Civita Telles\": \"1114\", \"James Frawley\": \"906\", \"Denys Gevel\": \"1638\", \"Kazuma Kawachi\": \"1344\", \"Geronimo Barrios\": \"1298\", \"Tomas Berdych\": \"15\", \"Niklas Johansson\": \"1597\", \"Abel Hernandez Aguila\": \"1678\", \"Luca Giacomini\": \"1252\", \"Sem Verbeek\": \"1666\", \"Michal Schmid\": \"681\", \"Blake Mott\": \"226\", \"Fermin Tenti\": \"1959\", \"Philipp Kohlschreiber\": \"60\", \"Ivan Davydov\": \"759\", \"Stanislas Wawrinka\": \"3\", \"Adam Chadaj\": \"1412\", \"Maximo Gonzalez\": \"169\", \"Paul Henri Mathieu\": \"138\", \"Eduardo Struvay\": \"514\", \"Gonzales Austin\": \"700\", \"Leny Mitjana\": \"816\", \"Grayson M Goldin\": \"1880\", \"Mauro Piras\": \"1497\", \"Jeevan Nedunchezhiyan\": \"1206\", \"Aaron Cortes Alcaraz\": \"1149\", \"Dudi Sela\": \"90\", \"Patrik Niklas Salminen\": \"778\", \"Igor Smilansky\": \"686\", \"Boris Butulija\": \"1671\", \"Joffrey De Schepper\": \"1059\", \"Sergio Barranco\": \"1370\", \"Ruan Roelofse\": \"1155\", \"Pablo Vivero Gonzalez\": \"495\", \"Takuto Niki\": \"298\", \"Pablo Andujar\": \"536\", \"Lawrence Bataljin\": \"2011\", \"Rodrigo Arus\": \"1285\", \"James Duckworth\": \"133\", \"Jordan Ubiergo\": \"732\", \"Alexander Carlos Parker\": \"1678\", \"Hong Chung\": \"517\", \"Alexandre Rotsaert\": \"1311\", \"Jean Marc Werner\": \"1092\", \"Joan Soler\": \"1959\", \"Jonathan Chang\": \"1089\", \"Ivan Dodig\": \"397\", \"Filip Peliwo\": \"314\", \"Collin Johns\": \"1075\", \"Gaston Arturo Grimolizzi\": \"948\", \"David Fleming\": \"1352\", \"Giovanni Rizzuti\": \"1151\", \"Edward Bourchier\": \"1786\", \"Tilen Zitnik\": \"1678\", \"Gorazd Srbljak\": \"1196\", \"Corentin Denolly\": \"450\", \"Gerardo Lopez Villasenor\": \"1786\", \"Tommy Robredo\": \"190\", \"Luigi Sorrentino\": \"1388\", \"Alvaro Lopez San Martin\": \"363\", \"Francesco Vilardo\": \"655\", \"Stefan Micov\": \"2074\", \"Sho Katayama\": \"777\", \"Denis Kapric\": \"1666\", \"Justin Barki\": \"1344\", \"Antonin Bolardt\": \"1959\", \"Federico Iannaccone\": \"1513\", \"Corrado Summaria\": \"1035\", \"Darius Florin Bragusi\": \"1786\", \"Valentin Vacherot\": \"796\", \"James Mcgee\": \"211\", \"Matthieu Roy\": \"1057\", \"Daniel Nolan\": \"791\", \"Niels Lootsma\": \"437\", \"Yan Bai\": \"488\", \"Stanislav Poplavskyy\": \"1141\", \"Adrien Bossel\": \"669\", \"Romain Arneodo\": \"1216\", \"Sebastian Fanselow\": \"340\", \"Connor Farren\": \"860\", \"Jie Ming Pai\": \"1678\", \"Jannis Kahlke\": \"1198\", \"Diego Hidalgo\": \"1288\", \"Scott Puodziunas\": \"1259\", \"Joao Domingues\": \"203\", \"Wilfredo Gonzalez\": \"967\", \"Gage Brymer\": \"1561\", \"Juan Martin\": \"1366\", \"Giovanni Fonio\": \"1328\", \"Francesco Moncagatto\": \"1593\", \"Adrian Mannarino\": \"51\", \"Gastao Elias\": \"115\", \"Michael Tomi\": \"1678\", \"Ty Trombetta\": \"1236\", \"Matej Maruscak\": \"1228\", \"M Abid Ali Khan Akbar\": \"1513\", \"Bjorn Hoffmann\": \"1678\", \"Marcus Willis\": \"379\", \"Thomas Linge\": \"1786\", \"Li Wie Tan\": \"1472\", \"Daniele Spinnato\": \"1657\", \"Darko Jandric\": \"957\", \"Cristobal Saavedra Corvalan\": \"588\", \"Naoki Takeda\": \"1228\", \"Andrea Grazioso\": \"1308\", \"Malek Jaziri\": \"77\", \"Daniele Giorgini\": \"1678\", \"Jae Won Choi\": \"1959\", \"Christopher Eubanks\": \"455\", \"Fabricio Neis\": \"911\", \"Jason Kubler\": \"938\", \"Adam Majchrowicz\": \"1169\", \"Daniel Gimeno Traver\": \"208\", \"Boris Kozlov\": \"1678\", \"Vladimir Filip\": \"2011\", \"Maxim Dubarenco\": \"987\", \"Nicholas Alexander Reyes\": \"2101\", \"Jia Hong Shen\": \"1678\", \"Elmar Ejupovic\": \"692\", \"Dmitry Tursunov\": \"715\", \"Manuel Sanchez\": \"637\", \"Taylor Harry Fritz\": \"128\", \"Julian Lenz\": \"533\", \"August Holmgren\": \"1221\", \"Aaro Pollanen\": \"1561\", \"Felipe Dannunzio\": \"1880\", \"Vlad Victor Cornea\": \"1103\", \"Robbie Mudge\": \"1412\", \"Marcel Waloch\": \"1597\", \"Siva Deep Kosaraju\": \"1786\", \"Benjamin Sigouin\": \"944\", \"Peter Vajda\": \"1181\", \"Brydan Klein\": \"232\", \"Marc Dijkhuizen\": \"1108\", \"Jose Rubin Statham\": \"344\", \"Mark Whitehouse\": \"1409\", \"Clifford Enosoregbe\": \"1160\", \"Vladimir Korolev\": \"1328\", \"Richard Gabb\": \"683\", \"Aleksandar Vukic\": \"751\", \"Bobbie De Goeijen\": \"2011\", \"Alex Kuznetsov\": \"555\", \"Joao Sousa\": \"62\", \"Tom Kocevar Desman\": \"744\", \"Michael Quintero\": \"1880\", \"Keelan Oakley\": \"1031\", \"Jakub Filipsky\": \"1880\", \"Olexiy Kolisnyk\": \"835\", \"Sven Lah\": \"1880\", \"Maxime Petel\": \"2051\", \"Francesco Bessire\": \"1880\", \"Sergiy Stakhovsky\": \"122\", \"Stefan Borg\": \"1678\", \"Alessandro Petrone\": \"604\", \"Tristan Lamasine\": \"198\", \"Masato Shiga\": \"512\", \"Kittipong Wachiramanowong\": \"1071\", \"Luca Margaroli\": \"730\", \"Danylo Kalenichenko\": \"644\", \"Nikita Mishin\": \"1880\", \"Masaki Osafune\": \"1400\", \"Luis Heredia Gomez\": \"1786\", \"Miguel Semmler\": \"567\", \"Tak Khunn Wang\": \"608\", \"Karan Rastogi\": \"1534\", \"Imanol Lopez Morillo\": \"2074\", \"Cristian Rodriguez\": \"528\", \"Carlos Eduardo Severino\": \"743\", \"Manuel Mazzella\": \"1311\", \"Mason Recci\": \"1786\", \"Axel Michon\": \"310\", \"Pietro Rondoni\": \"750\", \"Arturo Delleva\": \"1678\", \"Matej Sabanov\": \"1090\", \"Pere Riba\": \"325\", \"Victor Ouvrard\": \"1132\", \"Tomas Stillman\": \"1678\", \"Samm Butler\": \"1497\", \"Pedja Krstin\": \"268\", \"Jayesh Pungliya\": \"1197\", \"Riccardo Sinicropi\": \"1260\", \"Steve Johnson\": \"31\", \"Liam Broady\": \"389\", \"Alessandro Giannessi\": \"103\", \"Ivo Minar\": \"1786\", \"Nils Langer\": \"346\", \"David Souto\": \"1370\", \"Alessandro Ricci\": \"1388\", \"Pablo Cuevas\": \"24\", \"Luca Pancaldi\": \"699\", \"Hugo Schott\": \"2074\", \"Mischa Zverev\": \"30\", \"Naru Shirafuji\": \"1388\", \"Daniel Uhlig\": \"1534\", \"Dominik Stary\": \"1678\", \"Filipe Brandao\": \"1289\", \"Yuriy Kryvoy\": \"1880\", \"Ruikai Wang\": \"1094\", \"Yannick Vandenbulcke\": \"487\", \"Nico Mertens\": \"1678\", \"Robert Galloway\": \"2092\", \"Andrei Stefan Apostol\": \"908\", \"Eduard Esteve Lobato\": \"742\", \"Feliciano Lopez\": \"25\", \"Marco Trungelliti\": \"154\", \"Hiroyasu Ehara\": \"539\", \"Alexander Erler\": \"1435\", \"Paul Woerner\": \"832\", \"Javier Naser\": \"2011\", \"Moez Chargui\": \"526\", \"Stephane Robert\": \"146\", \"Iouri Sant Syromolotov Netrebin\": \"1181\", \"Sergey Betov\": \"776\", \"James Marsalek\": \"822\", \"Hugo Largo\": \"1660\", \"Michael Zhu\": \"1334\", \"Evgeny Tyurnev\": \"443\", \"Roberto Marcora\": \"852\", \"Stefano Travaglia\": \"155\", \"Maxime Chazal\": \"334\", \"David Perez Sanz\": \"722\", \"Aidan Mchugh\": \"1880\", \"Alberto Brizzi\": \"656\", \"Angel Santiago Setien\": \"1678\", \"Mitchell Harper\": \"1678\", \"Lenny Hampel\": \"408\", \"Petru Alexandru Luncanu\": \"679\", \"Shinji Hazawa\": \"1678\", \"Mikael Torpegaard\": \"320\", \"Vincent Millot\": \"171\", \"Riccardo Bonadio\": \"431\", \"Xiao Gong\": \"1176\", \"Austin Krajicek\": \"261\", \"Di Wu\": \"224\", \"Tiago Lopes\": \"959\", \"Mackenzie Mcdonald\": \"228\", \"Tim Ruehl\": \"2074\", \"Yannick Hanfmann\": \"173\", \"Nick Chappell\": \"1110\", \"Cristian Carli\": \"714\", \"Alexander Lobkov\": \"685\", \"Milan Drinic\": \"635\", \"Uladzimir Ignatik\": \"131\", \"Jeremy Jahn\": \"237\", \"Jesse Flores\": \"1678\", \"Aaron Addison\": \"1354\", \"Daniel Evans\": \"57\", \"Yunosuke Tanaka\": \"1880\", \"Frederik Press\": \"1064\", \"Mohamed Safwat\": \"256\", \"Dennis Novikov\": \"175\", \"Felipe Meligeni Rodrigues Alves\": \"1260\", \"Nicolas Santos\": \"504\", \"Andrei Patrui\": \"2011\", \"Damien Wenger\": \"1786\", \"Alejandro Pena\": \"1786\", \"Nick Hardt\": \"1678\", \"Mateusz Smolicki\": \"2051\", \"Axel Geller\": \"1497\", \"Jose Maria Martin De Oliva Carr\": \"1678\", \"Mikhail Youzhny\": \"82\", \"Marc Fornell Mestres\": \"1002\", \"Sebastian Prechtel\": \"830\", \"Simon Carr\": \"1166\", \"Robin Haase\": \"38\", \"Liam Caruana\": \"576\", \"Gregoire Jacq\": \"396\", \"Fabien Reboul\": \"575\", \"Jiri Vesely\": \"48\", \"Anton Galkin\": \"1053\", \"Chien Hsun Lo\": \"1323\", \"Oliver Hudson\": \"1561\", \"Filippo Volandri\": \"622\", \"Koray Kirci\": \"2074\", \"Sho Shimabukuro\": \"885\", \"Oleg Prihodko\": \"1147\", \"Camilo Ugo Carabelli\": \"870\", \"Christophe Nickels\": \"1880\", \"Fred Simonsson\": \"855\", \"Daniele Catini\": \"1959\", \"Mert Altinalev\": \"1786\", \"Dmitry Popko\": \"206\", \"James Ward\": \"1085\", \"Colin Van Beem\": \"782\", \"Ken Onoda\": \"1184\", \"Mark Chigaazira\": \"1678\", \"Paolo Lorenzi\": \"33\", \"Sebastian Baez\": \"1678\", \"Matthew Ebden\": \"263\", \"Siddharth Vishwakarma\": \"1030\", \"Pavel Tsoy\": \"1019\", \"Tony Bourcet\": \"1534\", \"Sharobiddin Abzalov\": \"1629\", \"Strahinja Rakic\": \"2011\", \"Petros Chrysochos\": \"1359\", \"Andrew Harris\": \"880\", \"Christian Hirschmueller\": \"810\", \"Miomir Kecmanovic\": \"367\", \"Tomas Liska\": \"2092\", \"Geronimo Espin Busleiman\": \"1534\", \"Jordi Samper Montana\": \"300\", \"Ivan Bjelica\": \"1121\", \"Adam El Mihdawy\": \"413\", \"Anurag Nenwani\": \"1786\", \"Daniil Medvedev\": \"49\", \"Dmytro Kovalevych\": \"1559\", \"Filip Krajinovic\": \"180\", \"Alberto Nieto\": \"2051\", \"Eduardo Yahir Orozco Rangel\": \"2011\", \"Julien Obry\": \"1678\", \"Thiago Seyboth Wild\": \"1513\", \"Timo Stodder\": \"1880\", \"Vincent Van Den Honert\": \"1162\", \"Simon Yastremskiy\": \"1786\", \"Marvin Moeller\": \"1124\", \"Benjamin Hassan\": \"1298\", \"Borja Rodriguez Manzano\": \"1228\", \"Joshua Howard Tripp\": \"1377\", \"Darius Neica\": \"1678\", \"Michele Longo\": \"2011\", \"Egor Koleganov\": \"1363\", \"Sasi Kumar Mukund\": \"419\", \"Romain Bauvy\": \"1067\", \"Goran Markovic\": \"1072\", \"Andy Murray\": \"1\", \"Paul Cayre\": \"1786\", \"Mick Veldheer\": \"1324\", \"Libor Salaba\": \"1098\", \"Benjamin Dhoe\": \"1344\", \"Mohamed Ali Bellalouna\": \"1880\", \"Viktor Troicki\": \"40\", \"Roman Safiullin\": \"405\", \"Riccardo Balzerani\": \"921\", \"Masaya Kobayashi\": \"1448\", \"Quim Sorni Chavarria\": \"1198\", \"Miki Jankovic\": \"802\", \"Andrea Guerrieri\": \"1339\", \"Luca Prevosto\": \"1202\", \"Mikhail Fufygin\": \"674\", \"Samir Iftikhar\": \"1561\", \"Rajko Mladenovic\": \"2011\", \"Abdullah Maqdas\": \"1227\", \"Mateusz Terczynski\": \"1008\", \"Petar Trendafilov\": \"1678\", \"Noah Rubin\": \"193\", \"Marek Gengel\": \"663\", \"Matthew Dellavedova\": \"1959\", \"Samuel Bensoussan\": \"682\", \"Eduardo Peralta Tello\": \"1456\", \"Nicolas Alberto Arreche\": \"1559\", \"Denis Matsukevitch\": \"829\", \"Luca Vanni\": \"121\", \"Santiago Besada\": \"2051\", \"Philipp Scholz\": \"1786\", \"Dietrich Dernowski\": \"2051\", \"Yuta Shimizu\": \"1308\", \"Aditya Hari Sasongko\": \"1638\", \"Petr Nouza\": \"2074\", \"Loic Cloes\": \"1786\", \"Mor Bulis\": \"584\", \"Marin Cilic\": \"6\", \"Alexandr Igoshin\": \"554\", \"Daniel Cox\": \"665\", \"Alexandre Muller\": \"316\", \"Harrison Adams\": \"1509\", \"Ronald Slobodchikov\": \"1084\", \"Abhinav Sanjeev Shanmugam\": \"1597\", \"Felipe Derdoy\": \"1678\", \"Elias Ymer\": \"269\", \"Guillermo Rivera Aranguiz\": \"1122\", \"Kacper Zuk\": \"1018\", \"Evgeny Karlovskiy\": \"407\", \"Anoosha Shahgholi\": \"1880\", \"Rudolf Molleker\": \"920\", \"Olukayode Alafia Damina Ayeni\": \"1388\", \"Dmitry Mnushkin\": \"1438\", \"Alexander Ward\": \"869\", \"Tucker Vorster\": \"792\", \"Marek Jaloviec\": \"285\", \"Riccardo Bellotti\": \"229\", \"Young Seok Kim\": \"697\", \"Jae Hwan Kim\": \"1125\", \"Nicolas Jarry\": \"182\", \"Joshua Rose\": \"1678\", \"Mark Flavius Andres\": \"1597\", \"Maxence Beauge\": \"1311\", \"Juan Ignacio Galarza\": \"497\", \"Markus Sedletzky\": \"1678\", \"Victor Nunez\": \"1356\", \"Blaz Rola\": \"245\", \"Alexander Zverev\": \"12\", \"Amirvala Madanchi\": \"1959\", \"Tommy Paul\": \"355\", \"Pedro Cachin\": \"321\", \"Nathan Eshmade\": \"1000\", \"Caio Zampieri\": \"331\", \"Maxence Broville\": \"1597\", \"Daniel Tamir\": \"2074\", \"Sergio Gutierrez Ferrol\": \"748\", \"Kody Pearson\": \"1412\", \"Karol Beck\": \"1513\", \"Joel Cannell\": \"846\", \"Arthur Weber\": \"1381\", \"Jesse Witten\": \"1156\", \"Alexander Lebedyn\": \"1228\", \"Cameron Silverman\": \"895\", \"Lukas Mugevicius\": \"412\", \"Ricardo Villacorta Alonso\": \"1042\", \"Luis Diego Chavez Villalpando\": \"1477\", \"Florent Bax\": \"1678\", \"Pol Vaquero Fernandez\": \"1959\", \"Michael Genender\": \"2011\", \"Marcin Gawron\": \"820\", \"Richard Muzaev\": \"1051\", \"Victor Estrella\": \"96\", \"Orel Ovil\": \"877\", \"Anastasios Pavlis\": \"1786\", \"Timur Kiuamov\": \"1344\", \"Alex Diaz\": \"1678\", \"Lucas Miedler\": \"329\", \"Woong Sun Jun\": \"1497\", \"Szymon Walkow\": \"1189\", \"Karol Drzewiecki\": \"1458\", \"Alexander Day\": \"1678\", \"Young Hoon Jeong\": \"1409\", \"Mats Moraing\": \"381\", \"Jakob Schnaitter\": \"1678\", \"Franco Skugor\": \"289\", \"Ricardo Ojeda Lara\": \"235\", \"Akira Santillan\": \"197\", \"Bastian Malla\": \"520\", \"Andrey Chepelev\": \"1425\", \"Carlos Taberner\": \"305\", \"Michal Dembek\": \"984\", \"Franco Capalbo\": \"1458\", \"Marco Mosciatti\": \"2011\", \"Valentin Guenther\": \"1477\", \"Giorgio Portaluri\": \"1597\", \"Yan Bondarevskiy\": \"1786\", \"Mikhail Elgin\": \"762\", \"Mohammed Mohammed\": \"1786\", \"Itay Shpindler\": \"2074\", \"Stefan Frljanic\": \"1959\", \"Bjorn Fratangelo\": \"132\", \"Ahmed Deedat Abdul Razak\": \"1959\", \"David Goffin\": \"13\", \"Sheng Hao Zhou\": \"1263\", \"Cosmin Ontica\": \"1786\", \"Alberto Cammarata\": \"1112\", \"Ciprian Alexandru Porumb\": \"2074\", \"Stamatis Kapiris\": \"1561\", \"Zlatan Palazov\": \"1678\", \"Radu Albot\": \"108\", \"Stefano Reitano\": \"1786\", \"Miljan Zekic\": \"246\", \"Jessy Kalambay\": \"1334\", \"Joe Salisbury\": \"1076\", \"Jules Marie\": \"1076\", \"Lucas Gomez\": \"735\", \"Yusuke Takahashi\": \"281\", \"Danilo Petrovic\": \"274\", \"Juan Ignacio Ameal\": \"1003\", \"Lawrence Erroll\": \"1786\", \"Jea Moon Lee\": \"673\", \"Brandon L Sutter\": \"1786\", \"Carlos Berlocq\": \"80\", \"Vladimir Uzhylovsky\": \"932\", \"Jorge Blanco Guadalupe\": \"1597\", \"Collin Altamirano\": \"814\", \"Horst Rieder\": \"1880\", \"Robertas Vrzesinski\": \"2011\", \"Bastian Trinker\": \"628\", \"Leon Hoeveler\": \"1631\", \"Jaroslav Pospisil\": \"458\", \"Mihail Khaldeev\": \"1400\", \"Isak Arvidsson\": \"840\", \"Barlaham Zuluaga Gaviria\": \"2092\", \"Tom Fawcett\": \"1223\", \"Luca Castelnuovo\": \"1534\", \"Mykyta Mashtakov\": \"1412\", \"Jianhui Li\": \"1880\", \"Arnaud Neveux\": \"1395\", \"Daniil Zarichanskyy\": \"879\", \"Marvin Netuschil\": \"322\", \"Marcel Granollers\": \"112\", \"Vladislav Melnic\": \"1534\", \"Julian Onken\": \"709\", \"Remi Boutillier\": \"393\", \"Younes El Aynaoui\": \"1786\", \"Djurabek Karimov\": \"946\", \"Christian Garin\": \"220\", \"Arthur De Greef\": \"116\", \"Gregorio Cordonnier\": \"1494\", \"Sanam Singh\": \"623\", \"Rowland Phillips\": \"1513\", \"Thomas Fancutt\": \"613\", \"Ricardo Hocevar\": \"601\", \"Mikael Ymer\": \"398\", \"Mario Matejcek\": \"1786\", \"Juan Pablo Ficovich\": \"485\", \"Philip Bester\": \"351\", \"Yanais Laurent\": \"799\", \"Joshua Paris\": \"985\", \"Sander Gille\": \"965\", \"Ugo Humbert\": \"766\", \"Alen Avidzba\": \"856\", \"Johan Sebastien Tatlot\": \"859\", \"Franco Ribero\": \"2051\", \"Laurynas Grigelis\": \"251\", \"George Von Massow\": \"768\", \"Huixin Wang\": \"1400\", \"Yusuke Watanuki\": \"741\", \"Michael Grant\": \"1080\", \"Antoine Leduc\": \"2011\", \"Lorenzo Giustino\": \"168\", \"Corentin Moutet\": \"341\", \"Alexander Lazov\": \"378\", \"Chan Yeong Oh\": \"864\", \"Marko Osmakcic\": \"1597\", \"Kaloyan Dimitrov\": \"1786\", \"Sadio Doumbia\": \"318\", \"Antal Van Der Duim\": \"728\", \"Mehdi Jdi\": \"1245\", \"Patcharapol Kawin\": \"1561\", \"Francesco Ferrari\": \"1005\", \"Kevin King\": \"527\", \"Akram El Sallaly\": \"2101\", \"Facundo Juarez\": \"1252\", \"Min Kyu Song\": \"591\", \"Valery Rudnev\": \"1678\", \"Miguel Semedo\": \"945\", \"Benjamin Mitchell\": \"752\", \"Hyeon Chung\": \"56\", \"Felipe Cunha Silva\": \"1203\", \"Cameron Norrie\": \"221\", \"Luc Fomba\": \"1412\", \"Arnaud Restifo\": \"1561\", \"Jaime Pulgar Garcia\": \"1412\", \"Ruben Gonzales\": \"898\", \"Eduardo Agustin Torre\": \"1186\", \"Ivar Jose Aramburu Contreras\": \"2011\", \"Quentin Folliot\": \"1597\", \"Christian Hansen\": \"1786\", \"Jose Olivares\": \"731\", \"Albert Ramos\": \"22\", \"Duarte Vale\": \"1597\", \"Daniel Elahi Galan Riveros\": \"383\", \"Facundo Bagnis\": \"107\", \"Youssef Hossam\": \"550\", \"Pol Toledo Bague\": \"502\", \"Alexander Bublik\": \"135\", \"Jarmere Jenkins\": \"387\", \"Tae Woo Lee\": \"960\", \"George Goldhoff\": \"1786\", \"Arata Onozawa\": \"1060\", \"Mathias Bourgue\": \"149\", \"Jules Okala\": \"476\", \"Abdulrahman Alawadhi\": \"1959\", \"Nicolas Barrientos\": \"754\", \"Philip Davydenko\": \"1678\", \"Rayane Roumane\": \"1258\", \"Simone Bolelli\": \"312\", \"Matic Spec\": \"1880\", \"Kaito Itsusaki\": \"1370\", \"Vladimir Polyakov\": \"1193\", \"Maxim Tybar\": \"1055\", \"Nicholas Bybel\": \"1438\", \"Jonathan Gray\": \"847\", \"Ristomatti Lanne\": \"1880\", \"Thibault Venturino\": \"1660\", \"Brian Orradre\": \"1678\", \"Conor Berg\": \"1026\", \"David Poljak\": \"747\", \"Dzmitry Zhyrmont\": \"339\", \"Aziz Ouakaa\": \"2107\", \"Delf Gohlke\": \"2011\", \"Cem Ilkel\": \"257\", \"Justin Roberts\": \"1388\", \"Daniele Pepe\": \"1786\", \"Viktor Durasovic\": \"531\", \"Mirko Martinez\": \"1097\", \"Gabriel Alejandro Hidalgo\": \"559\", \"Igor Sijsling\": \"464\", \"Hao Wu\": \"2074\", \"Dhruv Sunish\": \"1017\", \"Matteo Martineau\": \"1246\", \"Cheng Yu Yu\": \"568\", \"Nikola Mektic\": \"574\", \"Romain Jouan\": \"452\", \"Evan Zhu\": \"988\", \"Stijn Meulemans\": \"1238\", \"Imran Aswat\": \"1477\", \"Antonio J Ayala Hernandez\": \"1561\", \"Hunter Callahan\": \"825\", \"Robert Constantinovici\": \"1786\", \"Aljaz Jakob Kaplja\": \"1880\", \"Pavel Nejedly\": \"624\", \"Christopher Oconnell\": \"264\", \"Omer Yeshaya\": \"1597\", \"Ayoub Chakrouni\": \"1448\", \"Haadin Bava\": \"764\", \"Claudio Fortuna\": \"542\", \"Pavel Krainik\": \"956\", \"Boris Fassbender\": \"2074\", \"Alexander Mannapov\": \"1786\", \"Simone Roncalli\": \"1153\", \"Kamil Gajewski\": \"1061\", \"Victor Baluda\": \"775\", \"Ming Chun Alan Sou\": \"1786\", \"Nicholas Horton\": \"1395\", \"Adrian Bodmer\": \"639\", \"Dominik Kellovsky\": \"647\", \"Jui Chen Hung\": \"866\", \"Jaume Munar\": \"266\", \"Lauri Kiiski\": \"1206\", \"Jose Hernandez\": \"247\", \"Omar Jasika\": \"273\", \"Matej Vocel\": \"858\", \"Jared Hiltzik\": \"395\", \"Neven Krivokuca\": \"1638\", \"Marcelo Zormann Da Silva\": \"634\", \"Matias Franco Descotte\": \"676\", \"Koichi Sano\": \"1298\", \"Benard Bruno Nkomba\": \"1959\", \"Kenneth Raisma\": \"716\", \"Kaya Gore\": \"1561\", \"Yuichi Ito\": \"690\", \"Sebastian Serrano\": \"1395\", \"Juan Manuel Matute\": \"1959\", \"Patrik Brydolf\": \"1561\", \"Davide Della Tommasina\": \"1172\", \"Ruben Ramirez Hidalgo\": \"172\", \"Yannick Jankovits\": \"391\", \"Sharmal Dissanayake\": \"1678\", \"Nino Portales\": \"1657\", \"Yu Hsiou Hsu\": \"1044\", \"Mikhail Sokolovskiy\": \"1650\", \"Tadeas Paroulek\": \"1631\", \"Alexey Nesterov\": \"1678\", \"Anthony Jackie Tang\": \"1289\", \"Temur Ismailov\": \"515\", \"Maxim Ratniuk\": \"845\", \"Sagadat Ayap\": \"1458\", \"Bogdan Bobrov\": \"1068\", \"Max Purcell\": \"290\", \"Dane Propoggia\": \"1049\", \"Andre Gaspar Murta\": \"560\", \"Hyun Woo Nam\": \"1034\", \"Ibuki Furuta\": \"1381\", \"Maximilien Sanson\": \"1678\", \"Phassawit Burapharitta\": \"1597\", \"Hleb Maslau\": \"1786\", \"Alessandro Luisi\": \"930\", \"Luca Keist\": \"1880\", \"Antoine Escoffier\": \"498\", \"Fabio Costa\": \"1786\", \"Agustin Suarez Gonzalez\": \"1339\", \"Florent Diep\": \"831\", \"Robin Thour\": \"1959\", \"Steve Darcis\": \"61\", \"Joseph Imeh Ubon\": \"1959\", \"Gerald Melzer\": \"144\", \"Alexandru Danes\": \"1131\", \"Mario Vilella Martinez\": \"390\", \"Jaume Pla Malfeito\": \"605\", \"Henry Craig\": \"1118\", \"Laurent Lokoli\": \"319\", \"Shawn H Hadavi\": \"1678\", \"David Ferrer\": \"39\", \"Rigele Te\": \"642\", \"Valentin Vanta\": \"2051\", \"Hong Kit Jack Wong\": \"821\", \"Patricio Heras\": \"910\", \"Dylan Gee\": \"1561\", \"Piotr Matuszewski\": \"884\", \"Omar Salman\": \"653\", \"Maxime Pauwels\": \"1356\", \"Aleksandre Bakshi\": \"1786\", \"Adria Soriano Barrera\": \"1678\", \"Nerman Fatic\": \"701\", \"Tennys Sandgren\": \"106\", \"Timon Reichelt\": \"837\", \"Mikhail Kukushkin\": \"118\", \"Jose Antonio Rodriguez Rodriguez\": \"1497\", \"Daniiar Duldaev\": \"918\", \"N Vijay Sundar Prashanth\": \"529\", \"Tal Goldengoren\": \"827\", \"Marko Tepavac\": \"384\", \"Guy Orly Iradukunda\": \"1678\", \"Yu Chang Wang\": \"1678\", \"Dusan Rajic\": \"1786\", \"Zdenek Kolar\": \"254\", \"Alexandru Catalin Marasin\": \"1880\", \"Stefan Skadarka\": \"1162\", \"Leonard Von Hindte\": \"2092\", \"David Pel\": \"989\", \"Karunuday Singh\": \"806\", \"George Botezan\": \"1072\", \"Francisco Cabral\": \"975\", \"Patrik Rikl\": \"1597\", \"Franco Emanuel Egea\": \"689\", \"Jeremy Chardy\": \"71\", \"Christophe Tholl\": \"1678\", \"Fares Ghasya\": \"1007\", \"Florian Fallert\": \"745\", \"Nicolas Mahut\": \"78\", \"Sanjar Fayziev\": \"265\", \"Damir Dzumhur\": \"83\", \"Irakli Metreveli\": \"1786\", \"Alex Rybakov\": \"703\", \"Samuel Monette\": \"899\", \"Jc Aragone\": \"661\", \"Sergio Luis Hernandez Ramirez\": \"1880\", \"Stephan Gerritsen\": \"1458\", \"Anirudh Chandrasekar\": \"1344\", \"Maxime Teixeira\": \"1278\", \"Steven De Waard\": \"913\", \"Felix Corwin\": \"1597\", \"Ioannis Stergiou\": \"1087\", \"Hans Podlipnik Castillo\": \"773\", \"Julian Zlobinsky\": \"1381\", \"Saketh Myneni\": \"432\", \"Esteban Bruna\": \"1135\", \"Petr Hajek\": \"949\", \"Leonardo Aboian\": \"1786\", \"Jorge Lopez Perez Fuster\": \"1144\", \"Joao Lucas Magalhaes Hueb De Menezes\": \"704\", \"Christian Harrison\": \"356\", \"Matias Zukas\": \"493\", \"Stefan Kozlov\": \"126\", \"Christoffer Solberg\": \"1666\", \"Shane Vinsant\": \"675\", \"Patrik Fabian\": \"610\", \"Alexander Weis\": \"1324\", \"Hugo Nys\": \"416\", \"Benjamin Tullou\": \"1678\", \"S D Prajwal Dev\": \"1366\", \"Marco Di Prima\": \"1786\", \"Keegan Smith\": \"1015\", \"Nicolas Bacella\": \"1959\", \"Gilles Simon\": \"36\", \"Guido Pella\": \"99\", \"Gerald Moretti\": \"1678\", \"Laerte Di Falco\": \"1421\", \"Shahbaaz Khan\": \"1472\", \"Michael Look\": \"1534\", \"Washi Gervais\": \"2074\", \"Andrew Watson\": \"1678\", \"Matteo Trevisan\": \"772\", \"Benjamin Balleret\": \"1359\", \"Jorge Hernando Ruano\": \"974\", \"Sergiu Ioan Bucur\": \"1173\", \"Daniel Brands\": \"215\", \"Grzegorz Panfil\": \"947\", \"Marc Sieber\": \"365\", \"Alejandro Hoyos Franco\": \"1597\", \"David Volfson\": \"1129\", \"Artem Smirnov\": \"558\", \"Ricardo David Mayagoitia\": \"1678\", \"Kaza Vinayak Sharma\": \"1252\", \"Nicolas Uryson\": \"1880\", \"Seppe Cuypers\": \"1497\", \"Samuel Groth\": \"188\", \"Vasil Kirkov\": \"1435\", \"Ivan Sergeyev\": \"1880\", \"Dmytro Kamynin\": \"1294\", \"Jung Woong Na\": \"1056\", \"Aleksei Khomich\": \"1477\", \"Hendrik Jebens\": \"1534\", \"Denis Kudla\": \"191\", \"Srdjan Jakovljevic\": \"1678\", \"Juan Manuel Lopez\": \"1678\", \"Maxime Hamou\": \"272\", \"Nikola Milojevic\": \"177\", \"Gianni Mina\": \"323\", \"Karl Friberg\": \"1220\", \"Benoit Paire\": \"46\", \"Arnd Weyhausen\": \"1678\", \"Makoto Ochi\": \"414\", \"Lucas Renard\": \"1880\", \"Rhett Purcell\": \"1099\", \"Antun Vidak\": \"1597\", \"Andre Miele\": \"844\", \"Jeremy Efferding\": \"1786\", \"Alexander Sarkissian\": \"282\", \"Antonio Sancic\": \"1212\", \"Henri Laaksonen\": \"104\", \"Alejandro Gonzalez\": \"433\", \"Aitor Sanz Llopis\": \"1318\", \"Rajeev Ram\": \"223\", \"Katsuki Nagao\": \"1298\", \"Sherif Sabry\": \"889\", \"Andrea Pellegrino\": \"541\", \"Federico Nicolas Bertucci\": \"1421\", \"Franco Feitt\": \"1494\", \"Liang Chi Huang\": \"1026\", \"Jack Mingjie Lin\": \"1880\", \"Yannick Mertens\": \"276\", \"Tim Puetz\": \"471\", \"Marco Cecchinato\": \"102\", \"Loic Juszczak\": \"1660\", \"Gleb Alekseenko\": \"1496\", \"Daniele Capecchi\": \"1093\", \"Gustav Hansson\": \"1678\", \"Jared Donaldson\": \"67\", \"Mick Lescure\": \"580\", \"Junior Ore\": \"1880\", \"Peter Heller\": \"1159\", \"Siphosothando Montsi\": \"1513\", \"Brandon Walkin\": \"999\", \"Fabrizio Ornago\": \"573\", \"Bernardo Saraiva\": \"893\", \"Arjun Kadhe\": \"1880\", \"David Agung Susanto\": \"909\", \"Charles Broom\": \"1678\", \"Luis Britto\": \"1435\", \"David Guez\": \"313\", \"Yuanfeng Li\": \"1139\", \"Mitchell Frank\": \"1080\", \"Tiago Cacao\": \"1101\", \"Patrick Kaukovalta\": \"1246\", \"Nuno Deus\": \"896\", \"Luke Oakley\": \"1666\", \"Juan Pablo Varillas Patino Samudio\": \"456\", \"Quentin Halys\": \"139\", \"Francisco Bahamonde\": \"648\", \"Maciej Rajski\": \"710\", \"Mirko Cutuli\": \"1022\", \"Alexandre Sidorenko\": \"615\", \"Francois Arthur Vibert\": \"865\", \"Saidalo Saidkarimov\": \"1487\", \"Martins Podzus\": \"805\", \"Juan Bautista Otegui\": \"1880\", \"Tommaso Lago\": \"2011\", \"Peter Balla\": \"2011\", \"Jonathan Mridha\": \"688\", \"Renta Tokuda\": \"599\", \"Issam Al Tawil\": \"713\", \"Adil Kalyanpur\": \"1880\", \"Mirza Basic\": \"163\", \"Carlo Donato\": \"1534\", \"Bowen Ouyang\": \"969\", \"Fernando Yamacita\": \"979\", \"Jolan Cailleau\": \"941\", \"Emilio Gomez\": \"376\", \"Andrey Rublev\": \"95\", \"Ivo Karlovic\": \"23\", \"Aj Catanzariti\": \"1359\", \"Alessandro Bega\": \"333\", \"Ivan Kalinin\": \"1786\", \"Laslo Djere\": \"123\", \"Alexander Kudryavtsev\": \"286\", \"Ted Bachev\": \"1678\", \"Mariano Kestelboim\": \"410\", \"Juan Pablo Canas Garcia\": \"1412\", \"Sumit Nagal\": \"342\", \"Gianluca Mager\": \"358\", \"Paramveer Singh Bajwa\": \"1324\", \"Federico Moreno\": \"978\", \"Adam Thornton Brown\": \"2051\", \"Tomas Martin Etcheverry\": \"2074\", \"Jeroen Vanneste\": \"842\", \"Zhaoyi Cao\": \"1126\", \"William Bushamuka\": \"1597\", \"Nicolas Mejia\": \"1959\", \"Or Ram Harel\": \"1880\", \"Bradley Klahn\": \"496\", \"Dragos Nicolae Madaras\": \"734\", \"Calin Manda\": \"1487\", \"Jonathan Binding\": \"1880\", \"Federico Zeballos\": \"494\", \"Kuan Yi Lee\": \"508\", \"Bernd Kossler\": \"955\", \"Mislav Bosnjak\": \"2011\", \"Gianluca Bergomi\": \"1513\", \"Julian Reister\": \"933\", \"Albert Alcaraz Ivorra\": \"611\", \"Frazier Rengifo\": \"1534\", \"Ken Onishi\": \"787\", \"Dominik Bartels\": \"1513\", \"Steven Diez\": \"225\", \"Alex Knaff\": \"1786\", \"Nicolas Meister\": \"739\", \"Patrick Kypson\": \"916\", \"Lucas Catarina\": \"736\", \"Luis David Martinez\": \"1046\", \"Lukas Klein\": \"1066\", \"Farrukh Dustov\": \"881\", \"Michael Berrer\": \"532\", \"Sora Fukuda\": \"562\", \"Jonathan Ho\": \"2011\", \"Kaichi Uchida\": \"490\", \"Matteo Tinelli\": \"1036\", \"Nicolas Kicker\": \"94\", \"Jake Douglas\": \"1880\", \"Tyler Lu\": \"1157\", \"Adrian Ungur\": \"423\", \"Pierre Faivre\": \"996\", \"Hunter Johnson\": \"1534\", \"Janis Podzus\": \"1880\", \"Kristian Lozan\": \"1029\", \"Raul Brancaccio\": \"621\", \"Horacio Zeballos\": \"52\", \"Alex Bolt\": \"306\", \"Jordan Thompson\": \"86\", \"Seung Ri Choi\": \"1334\", \"Bruno Santanna\": \"418\", \"Stephan Koenigsfest\": \"1497\", \"Maxime Authom\": \"301\", \"Melik Feler\": \"2011\", \"Keisuke Numajiri\": \"1670\", \"Nicolas Moreno De Alboran\": \"1678\", \"Marcos Giraldi Requena\": \"783\", \"Sorin Andrei Iordache\": \"2011\", \"Igor Zelenay\": \"1206\", \"Lucas Bouquet\": \"1487\", \"Michel Vernier\": \"971\", \"Mauricio Echazu\": \"870\", \"Mikhail Korovin\": \"1070\", \"Alejandro Tabilo\": \"643\", \"Filip Horansky\": \"426\", \"Thiago Agustin Tirante\": \"1786\", \"Jordi Munoz Abreu\": \"1597\", \"Samuel Beddow\": \"1786\", \"Tejas Chaukulkar\": \"1412\", \"Dragos Constantin Ignat\": \"1127\", \"Tigre Hank\": \"1445\", \"Erik Crepaldi\": \"593\", \"Floris Van Den Brink\": \"1445\", \"Marton Fucsovics\": \"109\", \"Fabiano De Paula\": \"571\", \"Daniel Cukierman\": \"597\", \"Isaiah Strode\": \"1168\", \"Andre Ghem\": \"303\", \"Sameer Kumar\": \"1282\", \"Ernesto Escobedo\": \"74\", \"Rafael Mazon Hernandez\": \"1786\", \"Taine Bernhard\": \"1678\", \"Ulises Blanch\": \"904\", \"Alon Elia\": \"931\", \"Gonzalo Lama\": \"696\", \"Novak Djokovic\": \"4\", \"Darren K Polkinghorne\": \"1169\", \"Gengo Kikuchi\": \"994\", \"Marek Rehacek\": \"1880\", \"Yannick Verwater\": \"1678\", \"Evgeny Donskoy\": \"98\", \"Diego Sebastian Schwartzman\": \"37\", \"Harrison Scott\": \"1786\", \"Maxim Geraskin\": \"1786\", \"Fitriadi M Rifqi\": \"1509\", \"Dustin Brown\": \"97\", \"Carlos Salamanca\": \"1593\", \"Niki Kaliyanda Poonacha\": \"1063\", \"Guillermo Garcia Lopez\": \"143\", \"Vasco Mensurado\": \"1448\", \"Christian Voinea\": \"1880\", \"Matt Reid\": \"1117\", \"Changwei Peng\": \"1880\", \"Fabio Fognini\": \"29\", \"Yann Wojcik\": \"1298\", \"Razvan Bobleaga\": \"1298\", \"Yu Chang\": \"1119\", \"Ryan James Storrie\": \"1043\", \"Alexey Vatutin\": \"267\", \"Joao Souza\": \"150\", \"Anis Ghorbel\": \"616\", \"Lloyd George Muirhead Harris\": \"255\", \"Walter Trusendi\": \"374\", \"Richard Yang\": \"1786\", \"Kenny De Schepper\": \"151\", \"Duje Kekez\": \"1140\", \"Eric Johnson\": \"1238\", \"Marco Chiudinelli\": \"183\", \"Roman Blokhin\": \"1561\", \"Scott Duncan\": \"1678\", \"Pavel Petrov\": \"1678\", \"Boris Pokotilov\": \"1238\", \"Jakob Sude\": \"779\", \"Filippo Leonardi\": \"1149\", \"Brandon Holt\": \"1216\", \"Gabi Adrian Boitan\": \"1513\", \"Ayoub Benamar\": \"1534\", \"Pedro Sousa\": \"153\", \"Nuno Borges\": \"838\", \"Arturs Lazdins\": \"2105\", \"Peter Torebko\": \"438\", \"Dan Alexandru Tomescu\": \"2011\", \"Ewan Moore\": \"1048\", \"Milos Sekulic\": \"1058\", \"Josko Topic\": \"1497\", \"Omer Katz\": \"2011\", \"Stanislav Korshunov\": \"1448\", \"Adelchi Virgili\": \"570\", \"Filipp Kekercheni\": \"711\", \"Sandro Ehrat\": \"1009\", \"Juan Pablo Grassi Mazzuchi\": \"1786\", \"Henrik Sillanpaa\": \"1880\", \"Brian Baker\": \"293\", \"Federico Maccari\": \"1344\", \"Johann Willems\": \"882\", \"Maxime Mora\": \"818\", \"Carl Soderlund\": \"436\", \"Jirat Navasirisomboon\": \"919\", \"Alfredo Perez\": \"1561\", \"David Szintai\": \"2101\", \"Govind Nanda\": \"1678\", \"Dominic Thiem\": \"8\", \"Davide Galoppini\": \"627\", \"Yannai Barkai\": \"1671\", \"Ku Keon Kang\": \"1321\", \"Fabian Van Der Lans\": \"1880\", \"Sylvester Emmanuel\": \"1160\", \"Jurij Rodionov\": \"819\", \"Martin Beran\": \"954\", \"Guus Koevermans\": \"1678\", \"Jonas Trinker\": \"1395\", \"Mikelis Libietis\": \"479\", \"Filip Veger\": \"740\", \"Ricardo Urzua Rivera\": \"926\", \"Frank Dancevic\": \"336\", \"Ilya Vasilyev\": \"525\", \"Luca Gelhardt\": \"1244\", \"Jacob Grills\": \"853\", \"Yasutaka Uchiyama\": \"186\", \"Tomas Gerini\": \"1136\", \"Egor Gerasimov\": \"166\", \"Adrian Obert\": \"901\", \"Sefa Suluoglu\": \"1358\", \"Patrik Obal\": \"1122\", \"Mircea Alexandru Jecan\": \"873\", \"Mikolaj Jedruszczak\": \"1880\", \"Yuqing Ning\": \"1088\", \"Rhyne Williams\": \"523\", \"Bastian Wagner\": \"878\", \"Sarp Agabigun\": \"972\", \"Johan Nikles\": \"671\", \"Alejandro Garcia Saez\": \"1786\", \"Michal Przysiezny\": \"372\", \"Denis Shapovalov\": \"164\", \"Dhakshineswar Suresh\": \"1597\", \"Hans Hach Verdugo\": \"1458\", \"Kamil Majchrzak\": \"270\", \"Gianluca Di Nicola\": \"780\", \"Martin Joyce\": \"1880\", \"Wishaya Trongcharoenchaikul\": \"619\", \"Tsung Hua Yang\": \"556\", \"Manuel Pena Lopez\": \"1001\", \"Matthias Bachinger\": \"406\", \"Lloyd Glasspool\": \"411\", \"Pedro Sakamoto\": \"459\", \"Lance Pierre Du Toit\": \"1880\", \"Daniel Mora\": \"1676\", \"Salvatore Caruso\": \"200\", \"Marinko Matosevic\": \"399\", \"Teeradon Tortrakul\": \"1678\", \"Maverick Banes\": \"370\", \"Attila Balazs\": \"174\", \"Gleb Sakharov\": \"205\", \"Seong Gook Oh\": \"1880\", \"Grega Zemlja\": \"238\", \"Dennis Novak\": \"394\", \"Cesar Testoni\": \"1134\", \"Tobias Simon\": \"548\", \"Alexandar Lazarov\": \"649\", \"Andrei Vasilevski\": \"958\", \"Borna Gojo\": \"785\", \"Ilya Ivashka\": \"161\", \"Jonathan Eysseric\": \"278\", \"Tyler Hochwalt\": \"1648\", \"Michael Geerts\": \"698\", \"Oskar Lusti\": \"1678\", \"Dominik Koepfer\": \"354\", \"Dae Hee Lee\": \"1377\", \"Luke Bambridge\": \"602\", \"Aron Pierce\": \"1880\", \"Anton Zaitsev\": \"590\", \"Bradley Mousley\": \"445\", \"Carlos De La Pena\": \"1359\", \"Adam Pavlasek\": \"136\", \"Sang Woo Noh\": \"651\", \"Yutaro Matsuzaki\": \"1880\", \"Juan Ignacio Londero\": \"424\", \"Vaclav Safranek\": \"204\", \"Dimitar Kuzmanov\": \"470\", \"Kittirat Kerdlaphee\": \"1534\", \"Sam Querrey\": \"28\", \"Batyr Sapaev\": \"1786\", \"Marvin Bernardo Becker Spiering\": \"1448\", \"Viktor Filipenko\": \"863\", \"Leon Schutt\": \"903\", \"Goncalo Falcao\": \"1324\", \"Andre Goransson\": \"826\", \"Tomislav Brkic\": \"332\", \"Alexandre Penaud\": \"1880\", \"Dong Kyu Lee\": \"1458\", \"Michal Marko\": \"1561\", \"Maxime Tabatruong\": \"600\", \"Jonny Omara\": \"592\", \"Santiago Maresca\": \"982\", \"Alejandro Ibanez Gallego\": \"1061\", \"Fernando Verdasco\": \"35\", \"Pruchya Isarow\": \"943\", \"Samuel Hodor\": \"2051\", \"Luke Johnson\": \"1021\", \"Nizar Belmati\": \"1786\", \"Markos Kalovelonis\": \"630\", \"Keivon Tabrizi\": \"1561\", \"Andrea Borroni\": \"1880\", \"Shintaro Imai\": \"441\", \"Reilly Opelka\": \"129\", \"Guy Den Heijer\": \"970\", \"Alexander Donski\": \"2051\", \"Shota Meparidze\": \"1880\", \"Daniel Michalski\": \"1678\", \"Paco Climent Gregori\": \"1136\", \"Linh Giang Trinh\": \"1351\", \"Hugo Pontico\": \"2092\", \"Daniel Cozma\": \"1650\", \"Manish Sureshkumar\": \"1050\", \"Joris De Loore\": \"199\", \"Congsup Congcar\": \"1486\", \"Kai Lemstra\": \"1786\", \"Felipe Martinez Sarrasague\": \"914\", \"Gustavo Guerses\": \"2074\", \"Kevin Anderson\": \"42\", \"Alexandros Skorilas\": \"1678\", \"Paul Monteban\": \"1184\", \"Jimmy Wang\": \"795\", \"Edward Christopher Anefu\": \"1786\", \"Thien Nguyen Hoang\": \"1472\", \"Damon Gooch\": \"1400\", \"Raheel Manji\": \"1786\", \"Nathan Pasha\": \"756\", \"Linus Frost\": \"1597\", \"Juan Ignacio Cardini\": \"1880\", \"Daniel Czepielewski\": \"1959\", \"Fernando Romboli\": \"457\", \"Yoshihito Nishioka\": \"66\", \"Emil Reinberg\": \"1287\", \"Christian Paul\": \"1959\", \"Mark Burgos\": \"1786\", \"Soon Woo Kwon\": \"194\", \"Alexander Braun\": \"2011\", \"Daniel Munoz De La Nava\": \"465\", \"Edoardo Eremin\": \"466\", \"Thomas Fabbiano\": \"91\", \"Cing Yang Meng\": \"972\", \"Laurent Rochette\": \"887\", \"Shinta Fujii\": \"1120\", \"Lukas Rosol\": \"214\", \"Oscar Jose Gutierrez\": \"552\", \"Juan Pablo Paz\": \"359\", \"Henry Atseye\": \"1959\", \"Andrew Whittington\": \"210\", \"Francis Tiafoe\": \"64\", \"Mark Fynn\": \"2092\", \"Lucas Koelle\": \"1959\", \"Zhe Li\": \"253\", \"Jurgen Briand\": \"1477\", \"Alex Blumenberg\": \"966\", \"Marek Semjan\": \"1272\", \"Lorenzo Frigerio\": \"430\", \"Andrew Ruppli\": \"1111\", \"Ronnie Schneider\": \"1786\", \"Sebastian Ofner\": \"216\", \"Hugo Grenier\": \"446\", \"Filippo Borella\": \"2011\", \"Marc Andrea Huesler\": \"891\", \"Artur Dubinski\": \"1154\", \"Martin Klizan\": \"47\", \"Leonardo Mayer\": \"152\", \"Illya Marchenko\": \"117\", \"Shahar Elbaz\": \"1142\", \"Lourenzo Gasperini\": \"1456\", \"Denis Yevseyev\": \"726\", \"Eric Caleguer\": \"1561\", \"Tomas Lipovsek Puches\": \"386\", \"Yannik Reuter\": \"242\", \"Gerard Granollers\": \"524\", \"Lucas Vuradin\": \"2074\", \"Andreas Mies\": \"1206\", \"Dino Marcan\": \"1206\", \"Stijn Slump\": \"1513\", \"Shuichi Sekiguchi\": \"364\", \"Konstantin Kravchuk\": \"125\", \"Milos Raonic\": \"7\", \"Alexandru Vasile Manole\": \"1339\", \"Tom Schonenberg\": \"1425\", \"Frederico Gil\": \"478\", \"Franco David Aubone\": \"1786\", \"Luka Pavlovic\": \"1597\", \"Christos Antonopoulos\": \"1786\", \"Artur Shakhnubaryan\": \"1425\", \"Loic Perret\": \"975\", \"Evan Furness\": \"705\", \"Wilson Leite\": \"712\", \"Ji Sung Nam\": \"614\", \"Oliver Anderson\": \"1079\", \"Yankel Zemel\": \"1277\", \"Kei Nishikori\": \"9\", \"Laslo Urrutia Fuentes\": \"586\", \"Ryan Harrison\": \"41\", \"Dong Hak Sin\": \"1370\", \"Aron Hiltzik\": \"815\", \"Nebojsa Peric\": \"1237\", \"Jacopo Berrettini\": \"1192\", \"Samuel Ribeiro Navarrete\": \"1318\", \"Lleyton Cronje\": \"1786\", \"Jordan Parker\": \"1880\", \"Ilya Lebedev\": \"963\", \"Ivan Goluza\": \"2011\", \"Alexandre Tsuchiya\": \"1171\", \"Raleigh Smith\": \"812\", \"Amaury Delmas\": \"1438\", \"Tomislav Podvinski\": \"1786\", \"Samy Grace\": \"1298\", \"Ricardas Berankis\": \"196\", \"Dalwinder Singh\": \"997\", \"Vitaliy Sachko\": \"1438\", \"Arief Rahman\": \"1534\", \"Vitalii Shcherba\": \"2101\", \"Marcus Mansson\": \"1660\", \"Danila Arsenov\": \"1593\", \"Karen Khachanov\": \"34\", \"David Argasinski\": \"1880\", \"Aljaz Radinski\": \"1458\", \"Ivan Kosec\": \"1095\", \"Maxim Landa\": \"1534\", \"Verneri Tuomi\": \"1880\", \"Chun Hun Wong\": \"1959\", \"Alex Molcan\": \"519\", \"Shunrou Takeshima\": \"1246\", \"Leo Julien Sebaoun\": \"1959\", \"Robin Lang\": \"1959\", \"Caio Silva\": \"746\", \"Juan Martin Jalif\": \"1786\", \"Jeremy Beale\": \"798\", \"Patrik Rosenholm\": \"650\", \"Tim Van Rijthoven\": \"609\", \"Federico Coria\": \"248\", \"Motvey Radionov\": \"1631\", \"Julien Cagnina\": \"522\", \"Pavel Kotov\": \"1033\", \"Edward Corrie\": \"362\", \"Gal Hakak\": \"1678\", \"Ettore Capello\": \"1678\", \"Antonio Zucca\": \"1311\", \"Luka Ilic\": \"1472\", \"Juan Montes\": \"2051\", \"Gabriel Decamps\": \"1880\", \"Jie Cui\": \"1295\", \"Tihomir Grozdanov\": \"1678\", \"Antonio Cembellin\": \"1678\", \"Sathi Reddy\": \"1880\", \"Christian Samuelsson\": \"1959\", \"Lucas Poullain\": \"1678\", \"Facundo Arguello\": \"538\", \"Jorge Brian Panta Herreros\": \"1052\", \"Gabriel Petit\": \"1068\", \"Adrian Oetzbach\": \"1561\", \"Daniel Masur\": \"218\", \"Olly Sadler\": \"1534\", \"Karue Sell\": \"1279\", \"Elliott Orkin\": \"1786\", \"Oleg Koval\": \"1959\", \"Yannick Maden\": \"213\", \"Clay Thompson\": \"915\", \"Thomas Otu Omang\": \"1597\", \"Alexios Halebian\": \"641\", \"Igor Ribeiro Marcondes\": \"723\", \"Juan Manuel Benitez Chavarriaga\": \"793\", \"Simeon Rossier\": \"928\", \"Aleksas Tverijonas\": \"1678\", \"Tommaso Gabrieli\": \"1187\", \"Jan Lennard Struff\": \"53\", \"Luca Tomasetto\": \"1445\", \"Robert Quentin\": \"1370\", \"Francesco Salviato\": \"1425\", \"Haru Inoue\": \"1114\", \"Marco Miceli\": \"1425\", \"Robbie Ridout\": \"1238\", \"Kirill Dmitriev\": \"888\", \"Pascal Meis\": \"572\", \"Jae Min Seol\": \"1177\", \"Raphael Baltensperger\": \"977\", \"Jurgen Zopp\": \"480\", \"Alexis Galarneau\": \"1377\", \"Punnakrit Kritakara\": \"1597\", \"Trey Yates\": \"1678\", \"Eric Quigley\": \"417\", \"Michael Mmoh\": \"185\", \"Remy Bertola\": \"1880\", \"Carlos Boluda Purkiss\": \"546\", \"Ronan Joncour\": \"813\", \"Andrea Basso\": \"503\", \"Fajing Sun\": \"427\", \"Toshihide Matsui\": \"1786\", \"Thai Son Kwiatkowski\": \"578\", \"Milos Nikolic\": \"1328\", \"David Pichler\": \"415\", \"Kristijan Mesaros\": \"283\", \"Andrea Collarini\": \"279\", \"Dimitri Vidin\": \"1786\", \"Tallon Griekspoor\": \"292\", \"Aoran Wang\": \"2051\", \"Niels Desein\": \"883\", \"Roberto Bautista Agut\": \"19\", \"Michael Vrbensky\": \"1959\", \"Leon Frost\": \"1678\", \"Gregoire Barrere\": \"564\", \"Oscar Mancineiras Cornella\": \"1786\", \"Davide Pontoglio\": \"1025\", \"Fedor Chervyakov\": \"2051\", \"Ricardo Rodriguez\": \"951\", \"Robert Carter\": \"1678\", \"Nigmat Shofayziev\": \"1671\", \"Marcelo Arevalo\": \"234\", \"Yann Marti\": \"420\", \"Jonathan Morr\": \"2051\", \"Go Soeda\": \"113\", \"Dominik Suc\": \"1513\", \"Michiel De Krom\": \"817\", \"Tomas Papik\": \"489\", \"Chu Huan Yi\": \"1039\", \"Skyler Butts\": \"1638\", \"Takanyi Garanganga\": \"440\", \"Mousheg Hovhannisyan\": \"1308\", \"Alexis Klegou\": \"1311\", \"Ryota Kishi\": \"1477\", \"Norbert Gombos\": \"93\", \"Kazuki Nishiwaki\": \"1880\", \"Antoine Bellier\": \"721\", \"Michal Konecny\": \"369\", \"Augusto Laranja\": \"1513\", \"Alban Meuffels\": \"990\", \"Maikel Borg\": \"1786\", \"Bogdan Ionut Apostol\": \"1629\", \"Filip Duda\": \"1458\", \"Ivan Marrero Curbelo\": \"1561\", \"Javier Pulgar Garcia\": \"862\", \"Denys Molchanov\": \"596\", \"Darian King\": \"119\", \"Germain Gigounon\": \"377\", \"John Mcnally\": \"939\", \"Felix Auger Aliassime\": \"231\", \"Manfred Fellin\": \"1597\", \"Roi Ginat\": \"1880\", \"Martin Cuevas\": \"603\", \"Zhizhen Zhang\": \"718\", \"Hyung Chan Lim\": \"2011\", \"Jarryd Bant\": \"1678\", \"Mauricio Alvarez Guzman\": \"2051\", \"Nicola Kuhn\": \"500\", \"Maximiliano Estevez\": \"843\", \"Denis Istomin\": \"72\", \"Sam Matheson\": \"1561\", \"Dan Dowson\": \"950\", \"Alexey Baryshev\": \"1959\", \"Mohamed Sorour\": \"1678\", \"Thiemo De Bakker\": \"537\", \"Ivan Endara\": \"388\", \"Riccardo Maiga\": \"1006\", \"Tomohiro Masabayashi\": \"1959\", \"Artem Strokan\": \"2074\", \"Tomas Charlos\": \"1880\", \"Seong Woon Yu\": \"1678\", \"Pedro Martinez Portero\": \"295\", \"Prajnesh Gunneswaran\": \"259\", \"Nikoloz Basilashvili\": \"54\", \"Francesco Picco\": \"854\", \"Pablo Irigaray Guarne\": \"1631\", \"Dennis Uspensky\": \"1388\", \"Adrian Sikora\": \"1246\", \"Evan King\": \"361\", \"Sami Reinwein\": \"510\", \"Bernabe Zapata Miralles\": \"338\", \"Alessandro Colella\": \"1448\", \"Peter Bothwell\": \"680\", \"Alejo Vilaro\": \"1458\", \"Marat Deviatiarov\": \"646\", \"Petar Conkic\": \"1065\", \"Denys Klok\": \"1270\", \"Christopher Rungkat\": \"463\", \"Enzo Couacaud\": \"371\", \"Frederico Ferreira Silva\": \"343\", \"Albano Olivetti\": \"284\", \"Antonio Campo\": \"1638\", \"Aziz Dougaz\": \"841\", \"Michael Linzer\": \"275\", \"Cedrik Marcel Stebe\": \"167\", \"Alexis Musialek\": \"421\", \"Mitchell William Robins\": \"1409\", \"Radek Stepanek\": \"156\", \"Gaston Ezequiel Cantero\": \"1880\", \"Goncalo Oliveira\": \"277\", \"Alexis Canter\": \"1487\", \"Ryota Tanuma\": \"788\", \"Wei Qiang Zheng\": \"1448\", \"Iznaur Akhmaev\": \"1880\", \"Alan Kohen\": \"1246\", \"Muhammet Haylaz\": \"811\", \"Kristjan Tamm\": \"1631\", \"Mattias Siimar\": \"1534\", \"Eros Siringo\": \"923\", \"Altug Celikbilek\": \"448\", \"Inigo Cervantes Huegun\": \"179\", \"Alexandr Dolgopolov\": \"84\", \"Keisuke Watanuki\": \"1534\", \"Adriaan De Jager\": \"1650\", \"Guido Andreozzi\": \"157\", \"Oh Hee Kwon\": \"1425\", \"Luis Faria\": \"1425\", \"Vitaly Kozyukov\": \"547\", \"Aleksandr Sazankov\": \"1678\", \"Alexandr Semenov\": \"1786\", \"Matteo Fago\": \"1215\", \"Min Hyoek Cho\": \"727\", \"Andreas Haider Maurer\": \"1039\", \"Yecong He\": \"670\", \"Lukas Ollert\": \"702\", \"Jan Hernych\": \"935\"};\n",
    "names = currRank.keys()[1:10]\n"
   ]
  },
  {
   "cell_type": "code",
   "execution_count": null,
   "metadata": {},
   "outputs": [],
   "source": [
    "name  = []\n",
    "for i in range(len(names)):\n",
    "    removed_Space_Name = names[i].replace(\" \", \"\") #so that website can use the name as url using for loop \n",
    "    name.append(removed_Space_Name)\n",
    "    "
   ]
  },
  {
   "cell_type": "code",
   "execution_count": null,
   "metadata": {},
   "outputs": [],
   "source": [
    "name1 = name[0:10]\n",
    "name1"
   ]
  },
  {
   "cell_type": "code",
   "execution_count": null,
   "metadata": {
    "collapsed": true
   },
   "outputs": [],
   "source": [
    "#import urllib\n",
    "import requests\n",
    "import urllib2\n",
    "from bs4 import BeautifulSoup"
   ]
  },
  {
   "cell_type": "code",
   "execution_count": null,
   "metadata": {
    "collapsed": true
   },
   "outputs": [],
   "source": [
    "\"\"\"def make_soup(url):\n",
    "    r = requests.get(url) # grabs the page  \n",
    "    soup = BeautifulSoup(r.content,'html5').find(\"td\", {\"id\":\"wonloss\"})#.find(\"td\", {\"id\":\"wonloss\"})\n",
    "    return soup\"\"\""
   ]
  },
  {
   "cell_type": "code",
   "execution_count": null,
   "metadata": {
    "collapsed": true
   },
   "outputs": [],
   "source": [
    "\"\"\"def get_table_tag(names):\n",
    "    list2 = []\n",
    "    for player,values in enumerate(names[:10]):\n",
    "        url = 'http://www.tennisabstract.com/cgi-bin/player.cgi?p='+str(names[player])+'&f=&view=singles'\n",
    "        y = make_soup(url)\n",
    "        print \"soup___***___made\"\n",
    "        m = str(y)+\"---------\"+values\n",
    "        list2.append(m)\n",
    "        print values\n",
    "    return list2\"\"\"\n",
    "\n"
   ]
  },
  {
   "cell_type": "code",
   "execution_count": null,
   "metadata": {
    "collapsed": true
   },
   "outputs": [],
   "source": []
  },
  {
   "cell_type": "markdown",
   "metadata": {},
   "source": [
    "# Using selenium as the page has a reddit page\n"
   ]
  },
  {
   "cell_type": "code",
   "execution_count": null,
   "metadata": {},
   "outputs": [],
   "source": [
    "\"\"\"Using selenium as it is a dynamic \n",
    "web page where elements of a page may \n",
    "change without the page itself being reloaded.\"\"\"\n"
   ]
  },
  {
   "cell_type": "markdown",
   "metadata": {},
   "source": [
    "## IMPORTS REQUIRED"
   ]
  },
  {
   "cell_type": "code",
   "execution_count": null,
   "metadata": {
    "collapsed": true
   },
   "outputs": [],
   "source": []
  },
  {
   "cell_type": "code",
   "execution_count": null,
   "metadata": {
    "collapsed": true
   },
   "outputs": [],
   "source": [
    "from bs4 import BeautifulSoup\n",
    "from selenium import webdriver\n",
    "import re"
   ]
  },
  {
   "cell_type": "code",
   "execution_count": null,
   "metadata": {
    "collapsed": true
   },
   "outputs": [],
   "source": []
  },
  {
   "cell_type": "code",
   "execution_count": null,
   "metadata": {
    "collapsed": true
   },
   "outputs": [],
   "source": [
    "\"\"\"The driver.get method will navigate to a page given by the URL. \n",
    "WebDriver will wait until the page has fully loaded (that is, the “onload” \n",
    "event has fired) before returning control to your test or script. It’s worth \n",
    "noting that if your page uses a lot of AJAX on load then WebDriver may not know when \n",
    "it has completely loaded.:\"\"\"\n",
    "\n",
    "\n",
    "\"\"\"XPath is the language used for locating nodes in an XML document\"\"\"\n",
    "\n",
    "#***************************************\n",
    "\n",
    "def get_avg(elements):\n",
    "\"\"\"gives the average value of ace% per player using selenium\"\"\"\n",
    "\n",
    "    driver.get(url)\n",
    "    driver.refresh()\n",
    "    print driver\n",
    "\n",
    "    #finding element using \"find_element_by_xpath\"\n",
    "    #elements1 = driver.find_element_by_xpath(\"\"\"//*[@id=\"matches\"]/tbody\"\"\")\n",
    "    elements = driver.find_element_by_xpath(\"\"\"//*[@id=\"splitsbody\"]\"\"\")\n",
    "    result = re.split(r\"Grass|Clay|Hard|Cemented\",elements.text)\n",
    "    #result = re.split(r\"Grass|Clay|Hard|Cemented\",elements1.text)\n",
    "\n",
    "    #for saving values\n",
    "    ace = []\n",
    "    spw = []\n",
    "    rpw = []\n",
    "    element_APercent = [] \n",
    "\n",
    "    for i,data in enumerate(result):  #rolling over all the results as it's in form of a list\n",
    "        #y = re.findall(\"[-+]?\\d+[\\.]?\\d*[eE]?[-+]?\\d*\", data)\n",
    "        #nested_elements.append(y)\n",
    "        #print i\n",
    "        x = re.findall(r\"\\d+\\.\\d+\", result[i][:])\n",
    "        #print x\n",
    "        if not x:\n",
    "            print \"No__****__Value\"\n",
    "            \n",
    "        else :\n",
    "            element_APercent.append((x[0],x[5],x[7]))\n",
    "\n",
    "    #coverting into list of value for specific requirements\n",
    "    for i,data in enumerate(element_APercent):\n",
    "        ace.append(data[0])\n",
    "        spw.append(data[1])\n",
    "        rpw.append(data[2])\n",
    "\n",
    "\n",
    "#taking values from the list of floats\n",
    "    #converting unicode to int \n",
    "    int_ace = [float(i) for i in ace] \n",
    "    int_spw = [float(i) for i in spw] \n",
    "    int_rpw = [float(i) for i in rpw] \n",
    "    \n",
    "    if len(element_APercent) == 0:\n",
    "        #avg = \"zero values\"\n",
    "        avg_ace,avg_spw,avg_rpw = 0,0,0\n",
    "        return avg_ace,avg_spw,avg_rpw\n",
    "    else : \n",
    "        avg_ace = sum(int_ace)/(len(int_ace))\n",
    "        avg_spw = sum(int_spw)/(len(int_spw))\n",
    "        avg_rpw = sum(int_rpw)/(len(int_rpw))\n",
    "        \n",
    "        print {\"Ace_percent\" : avg_ace, \"spw \": avg_spw, \"rpw \" :  avg_rpw}\n",
    "        return avg_ace,avg_spw,avg_rpw\n",
    "    \n"
   ]
  },
  {
   "cell_type": "markdown",
   "metadata": {
    "collapsed": true
   },
   "source": [
    "## gives the value of avg_ace%, spw, rpw  per player recursively"
   ]
  },
  {
   "cell_type": "code",
   "execution_count": null,
   "metadata": {
    "scrolled": true
   },
   "outputs": [],
   "source": [
    "\n",
    "#gives the value of avg_ace% per player recursively\n",
    "\n",
    "#getting result for only 10 players from the list of players in name\n",
    "path = r\"/Users/avaneeshkumar/Downloads/chromedriver\"\n",
    "\n",
    "\"\"\"WebDriver is a tool for automating web application \n",
    "testing, and in particular to verify that they work as expected\"\"\"\n",
    "driver = webdriver.Chrome(path) \n",
    "\n",
    "for i, values in enumerate(name[0:10]):\n",
    "    print values\n",
    "    url = 'http://www.tennisabstract.com/cgi-bin/player.cgi?p='+values+'&f=&view=singles'\n",
    "    print url\n",
    "    x,y,z = get_avg(url)\n",
    "    "
   ]
  },
  {
   "cell_type": "code",
   "execution_count": null,
   "metadata": {
    "collapsed": true
   },
   "outputs": [],
   "source": [
    "\"\"\"for i,data in enumerate(result1):\n",
    "    q = re.findall(r\"\\d+\\.\\d+\", result1[i][:])\n",
    "    if not q:\n",
    "        print \"No__****__Value\"\n",
    "    else :\n",
    "        element_APercent.append((x[1],x)\n",
    "                                \n",
    "#converting unicode to int \n",
    "int_value = [float(element_APercent[i]) for i in range(len(element_APercent))]\n",
    "                                \n",
    "#last matches 14_over grass till : 12‑Jun‑2017\n",
    "avg_last = sum(int_value)/(len(element_APercent))\"\"\""
   ]
  },
  {
   "cell_type": "code",
   "execution_count": null,
   "metadata": {
    "collapsed": true
   },
   "outputs": [],
   "source": []
  },
  {
   "cell_type": "markdown",
   "metadata": {
    "collapsed": true
   },
   "source": [
    "###    Getting number of players from wiki_page "
   ]
  },
  {
   "cell_type": "code",
   "execution_count": null,
   "metadata": {
    "collapsed": true
   },
   "outputs": [],
   "source": [
    "\"\"\"url = \"https://en.wikipedia.org/wiki/List_of_male_singles_tennis_players\"\n",
    "def get_player_name(url):   \n",
    "    import re\n",
    "    #getting name of players using BeautifulSoup from Wiki\n",
    "    r = requests.get(url)\n",
    "    soup = BeautifulSoup(r.text,'html5').find(\"div\", {\"id\":\"mw-content-text\"})\n",
    "    mydivs = soup.findAll(\"span\", { \"class\" : \"sortkey\" })\n",
    "    #getting name from wiki_page using regex \n",
    "    player_name_wiki = []\n",
    "    for i,values in enumerate(mydivs):\n",
    "        x = str(mydivs[i])\n",
    "        x1 = re.findall(r'<span class=\"sortkey\">(.*?)</span>',x)\n",
    "        player_name_wiki.append(x1)\n",
    "    return player_name_wiki\"\"\""
   ]
  },
  {
   "cell_type": "code",
   "execution_count": null,
   "metadata": {
    "collapsed": true
   },
   "outputs": [],
   "source": []
  },
  {
   "cell_type": "code",
   "execution_count": null,
   "metadata": {
    "collapsed": true
   },
   "outputs": [],
   "source": []
  },
  {
   "cell_type": "code",
   "execution_count": null,
   "metadata": {
    "collapsed": true
   },
   "outputs": [],
   "source": []
  },
  {
   "cell_type": "markdown",
   "metadata": {},
   "source": [
    "## Imports"
   ]
  },
  {
   "cell_type": "code",
   "execution_count": null,
   "metadata": {
    "collapsed": true
   },
   "outputs": [],
   "source": [
    "\n",
    "import requests\n",
    "import pandas as pd\n",
    "import numpy as np"
   ]
  },
  {
   "cell_type": "markdown",
   "metadata": {},
   "source": [
    "## Replacing and getting value in a list in form of Dictionary"
   ]
  },
  {
   "cell_type": "code",
   "execution_count": 673,
   "metadata": {},
   "outputs": [],
   "source": [
    "def replace_all(matchmx):\n",
    "    \"\"\"replacing and data clearning for obtaining the matchmx for list of list \n",
    "    conversion from unicode to string\"\"\"\n",
    "    \n",
    "    #Cleaning the data and getting the string \"matchmx_data\" \n",
    "    dictionary = {\" \": \"\",\"\\n\":\"\",\";\": \"\"} #list of values to be removed\n",
    "    for i, j in dictionary.iteritems():\n",
    "        matchmx = matchmx.replace(i, j)\n",
    "        matchmx_data = matchmx[matchmx.find(\"varmatchmx\")+11:] # 11 = length of \"varmatchmx=\"\n",
    "    return matchmx_data\n",
    "\n",
    "\n",
    "#Saving the dictionary of value into list for conversation into DataFrame\n",
    "#data_url_final = []\n",
    "\n",
    "name = \"RogerFederer\"\n",
    "\n",
    "def get_values(name):\n",
    "    \n",
    "    \"\"\"Get values required obtaining the avg_values of ace, spw & rpw\"\"\"\n",
    "    #url = 'http://www.minorleaguesplits.com/tennisabstract//cgi-bin/jsmatches/'+value+'.js'\n",
    "    url = \"http://www.minorleaguesplits.com/tennisabstract/cgi-bin/jsmatches/\"+name+\".js\"\n",
    "    #print url\n",
    "    data_url_final = []\n",
    "    r = requests.get(url)\n",
    "    matchmx = r.text\n",
    "    matchmx = matchmx.encode('ascii','ignore')\n",
    "    matchmx_data = replace_all(matchmx=matchmx)\n",
    "    matchmx_data_final = eval(matchmx_data)\n",
    "\n",
    "    # store date wise match data in dataframe\n",
    "    for i,value in enumerate(matchmx_data_final):\n",
    "        #print value\n",
    "        if value[34] == \"\":\n",
    "            continue\n",
    "        else : \n",
    "            x = { \"date\" : pd.to_datetime(value[0],format=\"%Y%m%d\"),\n",
    "            \"service_total\":value[32], \n",
    "            \"service_won\" : int(value[34]) + int(value[35]),\n",
    "           \"service_againt_won\": int(value[25]) + int(value[26]),\n",
    "           \"service_against\" : int(value[23]),\n",
    "           \"ace\": int(value[21])}\n",
    "            #print x\n",
    "            data_url_final.append(x)\n",
    "    return data_url_final"
   ]
  },
  {
   "cell_type": "markdown",
   "metadata": {},
   "source": [
    "## Saving the stepwise data to dataFrame"
   ]
  },
  {
   "cell_type": "code",
   "execution_count": 674,
   "metadata": {},
   "outputs": [],
   "source": [
    "def get_sum_values(data_url_final):\n",
    "    \n",
    "    data=pd.DataFrame(data_url_final) #converting to dataFrame\n",
    "\n",
    "    data=data.sort_values(by='date',ascending=False) #sorting by date\n",
    "    data_table=data.iloc[0:9] #selecting last 10 matches\n",
    "\n",
    "    # converting service_total to int64 from an object\n",
    "    data_table['service_total']=data_table['service_total'].astype(np.int64)\n",
    "\n",
    "    #sum of column values to give the average value of last 10 matches from where we can get all type of data\n",
    "    #asked for\n",
    "    ace_total=data_table['ace'].sum()\n",
    "    #print ace_total\n",
    "    service_against_total=data_table['service_against'].sum()\n",
    "    #print service_against\n",
    "    service_againt_won_total=data_table['service_againt_won'].sum()\n",
    "    #print service_againt_won_total\n",
    "    service_total=data_table['service_total'].sum()\n",
    "    #print service_total\n",
    "    service_won_total=data_table['service_won'].sum()\n",
    "    #print service_won_total\n",
    "    return ace_total,service_against_total,service_against,service_won_total,service_total, data_table"
   ]
  },
  {
   "cell_type": "code",
   "execution_count": null,
   "metadata": {},
   "outputs": [],
   "source": []
  },
  {
   "cell_type": "code",
   "execution_count": 675,
   "metadata": {},
   "outputs": [],
   "source": [
    "def cal_avg_values(ace_total,service_against_total,service_against,service_won_total,service_total):\n",
    "    ace_pc=float(ace_total)/float(service_total_total)\n",
    "    spw_pc=float(service_won_total)/float(service_total)\n",
    "    rpw_pc=float(service_againt_won_total)/float(service_against_total)\n",
    "    #print ace_pc, spw_pc, rpw_pc\n",
    "    return ace_pc, spw_pc, rpw_pc\n"
   ]
  },
  {
   "cell_type": "code",
   "execution_count": 676,
   "metadata": {},
   "outputs": [
    {
     "name": "stdout",
     "output_type": "stream",
     "text": [
      "RogerFederer\n"
     ]
    }
   ],
   "source": [
    "name = \"RogerFederer\"\n",
    "print name\n",
    "#y = "
   ]
  },
  {
   "cell_type": "code",
   "execution_count": 693,
   "metadata": {},
   "outputs": [],
   "source": [
    "def get_avg_values(name):\n",
    "    data_url_final = get_values(name)\n",
    "    ace_total,service_against_total,service_against,service_won_total,service_total, data_table = get_sum_values(data_url_final)\n",
    "    ace, spw, rpw = cal_avg_values(ace_total,service_against_total,service_against,service_won_total,service_total)\n",
    "    print name\n",
    "    print {\"ace\": ace, \"spw\" : spw, \"rpw\":rpw} \n",
    "    return ace, spw, rpw"
   ]
  },
  {
   "cell_type": "code",
   "execution_count": 696,
   "metadata": {},
   "outputs": [],
   "source": [
    "names = [\"RogerFederer\",\"PeteSampras\",\"NovakDjokovic\", \"BjornBorg\"]"
   ]
  },
  {
   "cell_type": "code",
   "execution_count": 697,
   "metadata": {},
   "outputs": [
    {
     "name": "stderr",
     "output_type": "stream",
     "text": [
      "/Users/avaneeshkumar/.virtualenvs/cv/lib/python2.7/site-packages/ipykernel_launcher.py:9: SettingWithCopyWarning: \n",
      "A value is trying to be set on a copy of a slice from a DataFrame.\n",
      "Try using .loc[row_indexer,col_indexer] = value instead\n",
      "\n",
      "See the caveats in the documentation: http://pandas.pydata.org/pandas-docs/stable/indexing.html#indexing-view-versus-copy\n",
      "  if __name__ == '__main__':\n"
     ]
    },
    {
     "name": "stdout",
     "output_type": "stream",
     "text": [
      "RogerFederer\n",
      "{'rpw': 0.7495934959349594, 'ace': 0.11269614835948645, 'spw': 0.6077032810271041}\n",
      "PeteSampras\n",
      "{'rpw': 0.45779543197616684, 'ace': 0.24108416547788872, 'spw': 0.6447105788423154}\n",
      "NovakDjokovic\n",
      "{'rpw': 0.6171352074966533, 'ace': 0.052781740370898715, 'spw': 0.5542635658914729}\n",
      "BjornBorg\n",
      "{'rpw': 0.750814332247557, 'ace': 0.06276747503566334, 'spw': 0.6946826758147513}\n"
     ]
    }
   ],
   "source": [
    "for name in names:\n",
    "    ace_pc, spw_pc, rpw_pc  = get_avg_values(name)"
   ]
  },
  {
   "cell_type": "code",
   "execution_count": null,
   "metadata": {},
   "outputs": [],
   "source": []
  },
  {
   "cell_type": "code",
   "execution_count": 519,
   "metadata": {},
   "outputs": [],
   "source": []
  },
  {
   "cell_type": "code",
   "execution_count": null,
   "metadata": {},
   "outputs": [],
   "source": []
  },
  {
   "cell_type": "code",
   "execution_count": null,
   "metadata": {},
   "outputs": [],
   "source": []
  },
  {
   "cell_type": "code",
   "execution_count": null,
   "metadata": {},
   "outputs": [],
   "source": []
  },
  {
   "cell_type": "code",
   "execution_count": 493,
   "metadata": {},
   "outputs": [
    {
     "data": {
      "text/plain": [
       "Timestamp('2016-02-15 00:00:00')"
      ]
     },
     "execution_count": 493,
     "metadata": {},
     "output_type": "execute_result"
    }
   ],
   "source": [
    "#pd.to_datetime('20160215',format=\"%Y%m%d\")"
   ]
  },
  {
   "cell_type": "code",
   "execution_count": null,
   "metadata": {
    "collapsed": true
   },
   "outputs": [],
   "source": []
  },
  {
   "cell_type": "code",
   "execution_count": null,
   "metadata": {},
   "outputs": [],
   "source": [
    "#url = \"http://tennisabstract.com/cgi-bin/match.py?q=\"+matchmx_data_final[0][43]+\"/ATP/\"+matchmx_data_final[0][1]+\"/\" \n",
    "#                            +matchmx_data_final[0][8]+\"/Sam_Querrey/vs/\"+matchmx_data_final[-15][11]+\"/1\""
   ]
  },
  {
   "cell_type": "code",
   "execution_count": null,
   "metadata": {
    "collapsed": true
   },
   "outputs": [],
   "source": []
  },
  {
   "cell_type": "code",
   "execution_count": null,
   "metadata": {},
   "outputs": [],
   "source": [
    "# this returns lowest index of first occurence of \"\\n\"\n",
    "#matchmx_data1 = [x.strip() for x in matchmx_data]"
   ]
  },
  {
   "cell_type": "code",
   "execution_count": null,
   "metadata": {},
   "outputs": [],
   "source": []
  },
  {
   "cell_type": "code",
   "execution_count": null,
   "metadata": {},
   "outputs": [],
   "source": []
  },
  {
   "cell_type": "code",
   "execution_count": null,
   "metadata": {},
   "outputs": [],
   "source": []
  },
  {
   "cell_type": "code",
   "execution_count": null,
   "metadata": {},
   "outputs": [],
   "source": [
    "e = \",\\n          \"\n",
    "len(e)"
   ]
  },
  {
   "cell_type": "code",
   "execution_count": null,
   "metadata": {},
   "outputs": [],
   "source": []
  },
  {
   "cell_type": "code",
   "execution_count": null,
   "metadata": {
    "collapsed": true
   },
   "outputs": [],
   "source": []
  }
 ],
 "metadata": {
  "kernelspec": {
   "display_name": "Python 2",
   "language": "python",
   "name": "python2"
  },
  "language_info": {
   "codemirror_mode": {
    "name": "ipython",
    "version": 2
   },
   "file_extension": ".py",
   "mimetype": "text/x-python",
   "name": "python",
   "nbconvert_exporter": "python",
   "pygments_lexer": "ipython2",
   "version": "2.7.13"
  }
 },
 "nbformat": 4,
 "nbformat_minor": 2
}
